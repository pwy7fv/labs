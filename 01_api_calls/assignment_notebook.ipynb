{
  "cells": [
    {
      "cell_type": "markdown",
      "metadata": {
        "id": "Yi7xzykjgGP9"
      },
      "source": [
        "## Lab 1: Getting data from API's\n",
        "\n",
        "A great source of data and Pandas practice is getting data from the Internet. It is not going to come in a .csv file, though: It will be a stream of records, typically in XML (eXtensible Mark-up Language) or JSON (JavaScript Object Notation) format.\n",
        "\n",
        "We'll look at a very simple API and some useful code chunks for getting and analyzing data, and then you'll take a look at the APIs available from the Federal government as the main work for your lab.\n"
      ]
    },
    {
      "cell_type": "markdown",
      "metadata": {
        "id": "Ko09F0g3gGP-"
      },
      "source": [
        "## API Queries\n",
        "\n",
        "The core programming skill of the activity is to learn to query an online Application Programmer Interface (API). It is a similar experience to browsing the Internet, and initial results can be displayed the web browser. When visiting a web page, the address bar typically contains something like\n",
        "$$\n",
        "\\texttt{https://} \\underbrace{\\texttt{www.}}_{\\text{World Wide Web subdomain}} \\texttt{domain}. \\underbrace{\\texttt{tld}}_{\\text{Top level domain}},\n",
        "$$\n",
        "where the https:// specifies the protocol, www. specifies the world-wide-web subdomain, the domain is the entity, and the top-level domain .tld is typically something like .com or .gov, but is increasingly varied as ICANN releases more TLD's into circulation.\n",
        "\n",
        "With an online API, the user instead enters a url that goes directly to an API subdomain\n",
        "$$\n",
        "\\texttt{https://} \\underbrace{\\texttt{api.}}_{\\text{Application programmer interface}} \\texttt{domain.tld}/ \\texttt{(the query)}\n",
        "$$\n",
        "or accesses REST services as\n",
        "$$\n",
        "\\texttt{https://www.domain.tld} \\underbrace{\\texttt{/REST}}_{\\text{Accesses REST services}}/ \\texttt{(the query)}\n",
        "$$\n",
        "This accesses data on the domain's servers and returns the result directly to the user.\n",
        "\n",
        "The query itself is typically a string beginning with a question mark ?, followed by a series of expressions joined by ampersands &. For example,\n",
        "\n",
        "`?ProductType=Phone\\&Manufacturer=Apple`\n",
        "\n",
        "passes a query requesting all records for which the product type is recorded as phone and the manufacturer is recorded as Apple. Some API's include date ranges and other, more complex requests.\n",
        "\n",
        "To get started, a simple warm-up is to use the API from saferproducts.gov, which has a simple and intuitive structure for queries, and the results are simple enough to look at in the browser. Typing this in the address bar in a browser should yield about thirty records:\n",
        "\n",
        "    https://www.saferproducts.gov/RestWebServices/Recall?format=json&ProductType=Phone  \n",
        "\n",
        "with the first being, on this occasion:\n",
        "\n",
        "    \"RecallID\": 7856,\n",
        "    \"RecallNumber\": \"16266\",\n",
        "    \"RecallDate\": \"2016-09-15T00:00:00\",\n",
        "    \"Description\": \"This recall involves the Samsung Galaxy Note7 smartphone sold before\n",
        "    September 15, 2016. The recalled devices have a 5.7 inch screen and were sold in the\n",
        "    following colors: black onyx, blue coral, gold platinum and silver titanium with a\n",
        "    matching stylus. Samsung is printed on the top front of the phone and Galaxy Note7\n",
        "    is printed on the back of the phone. To determine if your phone has been recalled,\n",
        "    locate the IMEI number on the back of the phone or the packaging, and enter the IMEI\n",
        "    number into the online registration site www.samsung.com or call Samsung toll-free\n",
        "    at 844-365-6197.\",\n",
        "    \"URL\": \"https://www.cpsc.gov/Recalls/2016/Samsung-Recalls-Galaxy-Note7-Smartphones\",\n",
        "    \"Title\": \"Samsung Recalls Galaxy Note7 Smartphones Due to Serious Fire and Burn Hazards\",\n",
        "    \"ConsumerContact\": \"Contact your wireless carrier or place of purchase, call Samsung\n",
        "    toll-free at 844-365-6197 anytime, or go online at www.samsung.com.\",\n",
        "    \"LastPublishDate\": \"2016-10-27T00:00:00\"\n",
        "\n",
        "The query itself in this case is:\n",
        "\n",
        "    ?format=json&ProductType=Phone  \n",
        "\n",
        "The quert requests all of the recalls in JavaScript Object Notation (json) format, where the `ProductType` variable is equal to `Phone`. In addition to `ProductType`, other options include:\n",
        "\n",
        "    RecallID,\n",
        "    RecallNumber,\n",
        "    RecallDateStart,\n",
        "    RecallDateEnd,\n",
        "    RecallURL,\n",
        "    LastPublishDateStart,\n",
        "    LastPublishDateEnd,\n",
        "    RecallTitle,\n",
        "    ConsumerContact,\n",
        "    RecallDescription,\n",
        "    ProductName,\n",
        "    ProductDescription,\n",
        "    ProductModel,\n",
        "    ProductType,\n",
        "    InconjunctionURL,\n",
        "    ImageURL,\n",
        "    Injury,\n",
        "    Manufacturer,\n",
        "    Retailer,\n",
        "    Importer,\n",
        "    Distributor,\n",
        "    ManufacturerCountry,\n",
        "    UPC,\n",
        "    Hazard,\n",
        "    Remedy,\n",
        "    RemedyOption\n",
        "\n",
        "**1. Practice writing queries using the saferproducts.gov API and your web browser.**"
      ]
    },
    {
      "cell_type": "code",
      "source": [
        "?format=json&Manufacturer=Verizon"
      ],
      "metadata": {
        "id": "AC1CvU2K5o3U",
        "outputId": "37319605-dd50-4bb0-fa7a-64a6202f69ec",
        "colab": {
          "base_uri": "https://localhost:8080/"
        }
      },
      "execution_count": 10,
      "outputs": [
        {
          "output_type": "stream",
          "name": "stdout",
          "text": [
            "Object `format=json&Manufacturer=Verizon` not found.\n"
          ]
        }
      ]
    },
    {
      "cell_type": "markdown",
      "source": [
        " \"RecallID\": 3032,\n",
        "    \"RecallNumber\": \"05505\",\n",
        "    \"RecallDate\": \"2004-10-28T00:00:00\",\n",
        "    \"Description\": \"Kyocera Wireless Corp. Recall of Cell Phone Batteries Recall Alert U.S. Consumer Product Safety Commission Office of Information and Public Affairs Washington, DC 20207 October 28, 2004 Alert #05-505 CPSC, Kyocera Wireless Corp. Announce Recall of Cell Phone Batteries The following product safety recall was conducted voluntarily by the firm in cooperation with the CPSC. Consumers should stop using recalled products immediately unless otherwise instructed. It is illegal to resell or attempt to resell a recalled consumer product. Name of Product: Batteries in Kyocera Wireless Corp. Cell Phones Units: About 1 million  Manufacturer: Hecmma Group, of El Paso, Texas Distributor: Kyocera Wireless Corp., of San Diego, Calif. Hazard: Some of the cell phone batteries supplied by the battery manufacturer may be counterfeit. This can cause the batteries to short-circuit, overheat and pose burn hazard to consumers. Incidents/Injuries: Kyocera has received 14 reports of battery failures, resulting in smoke and minor property damage. Two minor burn injuries have been reported. Description: The recalled batteries are included in Kyocera Slider, K400, and 3200 Series cell phones. Below is additional information about the cell phones and recalled batteries: Cell Phone Model Name Cell Phone Model Number Battery Model Numbers Battery Description Slider Series SE44/SE47 CV90-L305N-01 CV90-L305P-01 CV90-L305T-01 CV90-L349T-01 Battery has the Kyocera name printed in red and black along with the model number K400 Series \\\"Phantom\\\" \\\"Blade\\\" \\\"Rave\\\" KE413 KE433 KE/KX414 KE/KX424 KE/KX434 CV90-K3040-03 CV90-K3040-09 CV90-K3040-10 CV90-K3040-11 Battery has the Kyocera name printed in red and white along with the model number 3200 Series 3225 3250 (Appears above or below phone display) CV90-K3040-03 CV90-K3040-09 CV90-K3040-10 CV90-K3040-11 Battery has the Kyocera name printed in red and white along with the model number Sold at: ALLTEL, Virgin Mobile, Cricket Communications, MetroPCS, US Cellular and Verizon Wireless stores nationwide; telemarketing retailers; various Web sites; and regional phone carriers sold the cell phones with the recalled batteries. The 3200 Series and K400 Series phones were sold from December 2003 to September 2004 for between $30 and $100. Slider Series phones were sold from May 2004 to September 2004 for between $30 and $170. The recalled batteries were also sold separately during the same periods for between $30 and $60. Manufactured In: Made in China, assembled in Mexico. Remedy: Consumers should immediately stop using the recalled batteries in their cell phones. Kyocera will contact consumers directly to arrange for delivery of a free replacement battery. If consumers with recalled batteries are not contacted by Kyocera, they should call the company to receive a free replacement battery. The batteries should be stored in an environment with non-flammable materials. Consumer Contact: Call Kyocera Wireless Corp. toll-free at (866) 559-3882 between 6 a.m. and 6 p.m. PT Monday through Friday, or request a replacement battery online at www.kyocera-wireless.com Media Contact: John Chier at (858) 882-3543. Slider Series K400 Series 3200 Series Slider Series Battery and Affected Product Codes 3200 and K400 Series Battery and Affected Product Codes\",\n",
        "    \"URL\": \"https://www.cpsc.gov/Recalls/2005/CPSC-Kyocera-Wireless-Corp-Announce-Recall-of-Cell-Phone-Batteries-\",\n",
        "    \"Title\": \"Kyocera Wireless Corp. Recall of Cell Phone Batteries\",\n",
        "    \"ConsumerContact\": null,\n",
        "    \"LastPublishDate\": \"2014-05-23T00:00:00\",[link text](https://)"
      ],
      "metadata": {
        "id": "5boAq1E55B2P"
      }
    },
    {
      "cell_type": "code",
      "source": [
        "?format=json&Hazard=Heat"
      ],
      "metadata": {
        "id": "PGgT0RUl5t-t",
        "outputId": "8b0e0d01-3f0a-4125-dced-096b953a8876",
        "colab": {
          "base_uri": "https://localhost:8080/"
        }
      },
      "execution_count": 11,
      "outputs": [
        {
          "output_type": "stream",
          "name": "stdout",
          "text": [
            "Object `format=json&Hazard=Heat` not found.\n"
          ]
        }
      ]
    },
    {
      "cell_type": "markdown",
      "source": [
        "\"RecallID\": 9167,\n",
        "\"RecallNumber\": \"22016\",\n",
        "\"RecallDate\": \"2021-11-03T00:00:00\",\n",
        "\"Description\": \"The recall involves propane and natural gas water heaters in 40, 50, and 75 gallon capacities. The recalled water heaters are white with a red \\\"Giant\\\" logo decal on the front. The water heaters have a nameplate near the Emerson gas control valve with the following model number ranges. UG40-38LFPV2-P1U-US, UG40-40LFPV2-N1U-US, UG50-38LFPV2-P1U-US, UG50-38LFPV2-P2U-US, UG50-38TFPDV1-N2U-US, UG50-40LFPV2-N1U-US, UG50-40LFPV2-N2U-US, UG75-76MEPV1-N2U-US, UG75-76MEPV1-P2U-US. The control valves are black with a white \\\"Emerson\\\" logo on the front.  The Emerson control valve model numbers and date code are located on a label on the right-hand side of the bracket holding the Emerson control valve to the gas water heater.  The recalled control valve model numbers are 37H73A-301P1 (natural gas) and 37H74A-301P1 (propane) with a date code between 1821 and 1839.\",\n",
        "\"URL\": \"https://www.cpsc.gov/Recalls/2022/Usines-Giant-Factories-Recalls-Gas-Water-Heaters-with-Emerson-Control-Valves-Due-to-Risk-of-Carbon-Monoxide-Poisoning\",\n",
        "\"Title\": \"Usines Giant Factories Recalls Gas Water Heaters with Emerson Control Valves Due to Risk of Carbon Monoxide Poisoning\",\n",
        "\"ConsumerContact\": \"Giant at 800 363-9354 from 8 a.m. to 5 p.m. ET Monday through Thursday and 8 a.m. to 3 p.m. ET on Friday, or e-mail at recall@giantinc.com. or online at www.giantinc.com then click on \\\"Recall Information\\\" located at the bottom of the page, or click on https://giantinc.com/en/recall-information.\",\n",
        "\"LastPublishDate\": \"2021-11-03T00:00:00\","
      ],
      "metadata": {
        "id": "pFl8qISq46Os"
      }
    },
    {
      "cell_type": "markdown",
      "metadata": {
        "id": "8Zwfi6ndgGP-"
      },
      "source": [
        "## Accessing API's with Python\n",
        "\n",
        "Anytime you use a computer to access resources on the Internet, you will likely run into problems. There are many options, but two with low coding overhead: The `requests` and `urrlib.requests` packages.\n",
        "\n",
        "The following code chunk uses the `requests` package to get the same kind of data that was being displayed in the browser, but in an interactive Python session:\n",
        "\n",
        "    import requests\n",
        "    url = 'https://www.saferproducts.gov/RestWebServices/' # Location of the API\n",
        "    query = 'Recall?format=json&ProductType=Exercise' # The query\n",
        "    header = {'User-Agent': 'Mozilla/5.0 (Windows NT 10.0; Win64; x64; rv:124.0)\n",
        "        Gecko/20100101 Firefox/124.0'} # The user-agent to avoid being blocked\n",
        "    raw = requests.get(url+query,headers=header) # Query the database\n",
        "    data = raw.json() # Convert data from json to dictionary\n",
        "\n",
        "To make the code easier to read, it separates the url and the query into two different strings, then concatenates them in the GET request. This makes it easier to edit the query, as well as suggests a simple way to loop over a number of queries that might be sent to the same API.\n",
        "\n",
        "Many resources are designed to block access from particular kinds of users. In order to circumvent these obstacles, you can specify a `header` dictionary that presents the query to the server as coming from a hypothetical and common user. In this case, the header presents the query as coming from a Firefox browser from a Windows computer, rather than something like `python-requests/3.12.1`. This problem appears generally in scraping data from the web, and can grind the process to a halt. For whatever reason, I have been blocked and gotten 403 errors with the `requests` package, which motivated me to prepare a second alternative that seems more robust:\n",
        "\n",
        "    import urllib.request\n",
        "    import json\n",
        "    url = 'https://www.saferproducts.gov/RestWebServices/' # Location of the API\n",
        "    query = 'Recall?format=json&ProductType=Exercise' # The query\n",
        "    response = urllib.request.urlopen(url+query)\n",
        "    response_bytes = response.read()\n",
        "    data = json.loads(response_bytes) # Convert response to json\n",
        "    response.close()\n",
        "\n",
        "This is a bit more code and some steps are a bit less human-friendly, but seems to work a bit more reliably than `requests`.\n",
        "\n",
        "**2. Practice with the saferproducts.gov API and the above code in a notebook to see how API's work, in general.**"
      ]
    },
    {
      "cell_type": "code",
      "source": [
        "import requests\n",
        "url = 'https://www.saferproducts.gov/RestWebServices/'\n",
        "query = 'Recall?format=json&Hazard=Heat'\n",
        "header = {'User-Agent':'Mozilla/5.0 (Windows NT 10.0; Win64; x64; rv:124.0) Gecko/20100101 Firefox/124.0'}\n",
        "raw = requests.get(url+query,headers=header)\n",
        "data = raw.json()"
      ],
      "metadata": {
        "id": "j5lo2fqT6iEz",
        "outputId": "0c7c9b79-e205-498e-9813-89f49472b65e",
        "colab": {
          "base_uri": "https://localhost:8080/",
          "height": 418
        }
      },
      "execution_count": null,
      "outputs": [
        {
          "output_type": "error",
          "ename": "JSONDecodeError",
          "evalue": "Expecting value: line 1 column 1 (char 0)",
          "traceback": [
            "\u001b[0;31m---------------------------------------------------------------------------\u001b[0m",
            "\u001b[0;31mJSONDecodeError\u001b[0m                           Traceback (most recent call last)",
            "\u001b[0;32m/usr/local/lib/python3.10/dist-packages/requests/models.py\u001b[0m in \u001b[0;36mjson\u001b[0;34m(self, **kwargs)\u001b[0m\n\u001b[1;32m    973\u001b[0m         \u001b[0;32mtry\u001b[0m\u001b[0;34m:\u001b[0m\u001b[0;34m\u001b[0m\u001b[0;34m\u001b[0m\u001b[0m\n\u001b[0;32m--> 974\u001b[0;31m             \u001b[0;32mreturn\u001b[0m \u001b[0mcomplexjson\u001b[0m\u001b[0;34m.\u001b[0m\u001b[0mloads\u001b[0m\u001b[0;34m(\u001b[0m\u001b[0mself\u001b[0m\u001b[0;34m.\u001b[0m\u001b[0mtext\u001b[0m\u001b[0;34m,\u001b[0m \u001b[0;34m**\u001b[0m\u001b[0mkwargs\u001b[0m\u001b[0;34m)\u001b[0m\u001b[0;34m\u001b[0m\u001b[0;34m\u001b[0m\u001b[0m\n\u001b[0m\u001b[1;32m    975\u001b[0m         \u001b[0;32mexcept\u001b[0m \u001b[0mJSONDecodeError\u001b[0m \u001b[0;32mas\u001b[0m \u001b[0me\u001b[0m\u001b[0;34m:\u001b[0m\u001b[0;34m\u001b[0m\u001b[0;34m\u001b[0m\u001b[0m\n",
            "\u001b[0;32m/usr/lib/python3.10/json/__init__.py\u001b[0m in \u001b[0;36mloads\u001b[0;34m(s, cls, object_hook, parse_float, parse_int, parse_constant, object_pairs_hook, **kw)\u001b[0m\n\u001b[1;32m    345\u001b[0m             parse_constant is None and object_pairs_hook is None and not kw):\n\u001b[0;32m--> 346\u001b[0;31m         \u001b[0;32mreturn\u001b[0m \u001b[0m_default_decoder\u001b[0m\u001b[0;34m.\u001b[0m\u001b[0mdecode\u001b[0m\u001b[0;34m(\u001b[0m\u001b[0ms\u001b[0m\u001b[0;34m)\u001b[0m\u001b[0;34m\u001b[0m\u001b[0;34m\u001b[0m\u001b[0m\n\u001b[0m\u001b[1;32m    347\u001b[0m     \u001b[0;32mif\u001b[0m \u001b[0mcls\u001b[0m \u001b[0;32mis\u001b[0m \u001b[0;32mNone\u001b[0m\u001b[0;34m:\u001b[0m\u001b[0;34m\u001b[0m\u001b[0;34m\u001b[0m\u001b[0m\n",
            "\u001b[0;32m/usr/lib/python3.10/json/decoder.py\u001b[0m in \u001b[0;36mdecode\u001b[0;34m(self, s, _w)\u001b[0m\n\u001b[1;32m    336\u001b[0m         \"\"\"\n\u001b[0;32m--> 337\u001b[0;31m         \u001b[0mobj\u001b[0m\u001b[0;34m,\u001b[0m \u001b[0mend\u001b[0m \u001b[0;34m=\u001b[0m \u001b[0mself\u001b[0m\u001b[0;34m.\u001b[0m\u001b[0mraw_decode\u001b[0m\u001b[0;34m(\u001b[0m\u001b[0ms\u001b[0m\u001b[0;34m,\u001b[0m \u001b[0midx\u001b[0m\u001b[0;34m=\u001b[0m\u001b[0m_w\u001b[0m\u001b[0;34m(\u001b[0m\u001b[0ms\u001b[0m\u001b[0;34m,\u001b[0m \u001b[0;36m0\u001b[0m\u001b[0;34m)\u001b[0m\u001b[0;34m.\u001b[0m\u001b[0mend\u001b[0m\u001b[0;34m(\u001b[0m\u001b[0;34m)\u001b[0m\u001b[0;34m)\u001b[0m\u001b[0;34m\u001b[0m\u001b[0;34m\u001b[0m\u001b[0m\n\u001b[0m\u001b[1;32m    338\u001b[0m         \u001b[0mend\u001b[0m \u001b[0;34m=\u001b[0m \u001b[0m_w\u001b[0m\u001b[0;34m(\u001b[0m\u001b[0ms\u001b[0m\u001b[0;34m,\u001b[0m \u001b[0mend\u001b[0m\u001b[0;34m)\u001b[0m\u001b[0;34m.\u001b[0m\u001b[0mend\u001b[0m\u001b[0;34m(\u001b[0m\u001b[0;34m)\u001b[0m\u001b[0;34m\u001b[0m\u001b[0;34m\u001b[0m\u001b[0m\n",
            "\u001b[0;32m/usr/lib/python3.10/json/decoder.py\u001b[0m in \u001b[0;36mraw_decode\u001b[0;34m(self, s, idx)\u001b[0m\n\u001b[1;32m    354\u001b[0m         \u001b[0;32mexcept\u001b[0m \u001b[0mStopIteration\u001b[0m \u001b[0;32mas\u001b[0m \u001b[0merr\u001b[0m\u001b[0;34m:\u001b[0m\u001b[0;34m\u001b[0m\u001b[0;34m\u001b[0m\u001b[0m\n\u001b[0;32m--> 355\u001b[0;31m             \u001b[0;32mraise\u001b[0m \u001b[0mJSONDecodeError\u001b[0m\u001b[0;34m(\u001b[0m\u001b[0;34m\"Expecting value\"\u001b[0m\u001b[0;34m,\u001b[0m \u001b[0ms\u001b[0m\u001b[0;34m,\u001b[0m \u001b[0merr\u001b[0m\u001b[0;34m.\u001b[0m\u001b[0mvalue\u001b[0m\u001b[0;34m)\u001b[0m \u001b[0;32mfrom\u001b[0m \u001b[0;32mNone\u001b[0m\u001b[0;34m\u001b[0m\u001b[0;34m\u001b[0m\u001b[0m\n\u001b[0m\u001b[1;32m    356\u001b[0m         \u001b[0;32mreturn\u001b[0m \u001b[0mobj\u001b[0m\u001b[0;34m,\u001b[0m \u001b[0mend\u001b[0m\u001b[0;34m\u001b[0m\u001b[0;34m\u001b[0m\u001b[0m\n",
            "\u001b[0;31mJSONDecodeError\u001b[0m: Expecting value: line 1 column 1 (char 0)",
            "\nDuring handling of the above exception, another exception occurred:\n",
            "\u001b[0;31mJSONDecodeError\u001b[0m                           Traceback (most recent call last)",
            "\u001b[0;32m<ipython-input-3-5ab43b5e96d7>\u001b[0m in \u001b[0;36m<cell line: 6>\u001b[0;34m()\u001b[0m\n\u001b[1;32m      4\u001b[0m \u001b[0mheader\u001b[0m \u001b[0;34m=\u001b[0m \u001b[0;34m{\u001b[0m\u001b[0;34m'User-Agent'\u001b[0m\u001b[0;34m:\u001b[0m\u001b[0;34m'Mozilla/5.0 (Windows NT 10.0; Win64; x64; rv:124.0) Gecko/20100101 Firefox/124.0'\u001b[0m\u001b[0;34m}\u001b[0m\u001b[0;34m\u001b[0m\u001b[0;34m\u001b[0m\u001b[0m\n\u001b[1;32m      5\u001b[0m \u001b[0mraw\u001b[0m \u001b[0;34m=\u001b[0m \u001b[0mrequests\u001b[0m\u001b[0;34m.\u001b[0m\u001b[0mget\u001b[0m\u001b[0;34m(\u001b[0m\u001b[0murl\u001b[0m\u001b[0;34m+\u001b[0m\u001b[0mquery\u001b[0m\u001b[0;34m,\u001b[0m\u001b[0mheaders\u001b[0m\u001b[0;34m=\u001b[0m\u001b[0mheader\u001b[0m\u001b[0;34m)\u001b[0m\u001b[0;34m\u001b[0m\u001b[0;34m\u001b[0m\u001b[0m\n\u001b[0;32m----> 6\u001b[0;31m \u001b[0mdata\u001b[0m \u001b[0;34m=\u001b[0m \u001b[0mraw\u001b[0m\u001b[0;34m.\u001b[0m\u001b[0mjson\u001b[0m\u001b[0;34m(\u001b[0m\u001b[0;34m)\u001b[0m\u001b[0;34m\u001b[0m\u001b[0;34m\u001b[0m\u001b[0m\n\u001b[0m",
            "\u001b[0;32m/usr/local/lib/python3.10/dist-packages/requests/models.py\u001b[0m in \u001b[0;36mjson\u001b[0;34m(self, **kwargs)\u001b[0m\n\u001b[1;32m    976\u001b[0m             \u001b[0;31m# Catch JSON-related errors and raise as requests.JSONDecodeError\u001b[0m\u001b[0;34m\u001b[0m\u001b[0;34m\u001b[0m\u001b[0m\n\u001b[1;32m    977\u001b[0m             \u001b[0;31m# This aliases json.JSONDecodeError and simplejson.JSONDecodeError\u001b[0m\u001b[0;34m\u001b[0m\u001b[0;34m\u001b[0m\u001b[0m\n\u001b[0;32m--> 978\u001b[0;31m             \u001b[0;32mraise\u001b[0m \u001b[0mRequestsJSONDecodeError\u001b[0m\u001b[0;34m(\u001b[0m\u001b[0me\u001b[0m\u001b[0;34m.\u001b[0m\u001b[0mmsg\u001b[0m\u001b[0;34m,\u001b[0m \u001b[0me\u001b[0m\u001b[0;34m.\u001b[0m\u001b[0mdoc\u001b[0m\u001b[0;34m,\u001b[0m \u001b[0me\u001b[0m\u001b[0;34m.\u001b[0m\u001b[0mpos\u001b[0m\u001b[0;34m)\u001b[0m\u001b[0;34m\u001b[0m\u001b[0;34m\u001b[0m\u001b[0m\n\u001b[0m\u001b[1;32m    979\u001b[0m \u001b[0;34m\u001b[0m\u001b[0m\n\u001b[1;32m    980\u001b[0m     \u001b[0;34m@\u001b[0m\u001b[0mproperty\u001b[0m\u001b[0;34m\u001b[0m\u001b[0;34m\u001b[0m\u001b[0m\n",
            "\u001b[0;31mJSONDecodeError\u001b[0m: Expecting value: line 1 column 1 (char 0)"
          ]
        }
      ]
    },
    {
      "cell_type": "code",
      "source": [
        "import urllib.request\n",
        "import json\n",
        "url = 'https://www.saferproducts.gov/RestWebServices/'\n",
        "query = 'Recall?format=json&Manufacturer=Verizon'\n",
        "response = urllib.request.urlopen(url+query)\n",
        "response_bytes = response.read()\n",
        "data = json.loads(response_bytes)\n",
        "response.close()"
      ],
      "metadata": {
        "id": "Grv7vev-7vok"
      },
      "execution_count": null,
      "outputs": []
    },
    {
      "cell_type": "code",
      "source": [
        "data"
      ],
      "metadata": {
        "id": "OiwXKciC750Y",
        "outputId": "27395df3-2a72-4e5d-d01d-c588fcb3dbf1",
        "colab": {
          "base_uri": "https://localhost:8080/"
        }
      },
      "execution_count": null,
      "outputs": [
        {
          "output_type": "execute_result",
          "data": {
            "text/plain": [
              "[{'RecallID': 3032,\n",
              "  'RecallNumber': '05505',\n",
              "  'RecallDate': '2004-10-28T00:00:00',\n",
              "  'Description': 'Kyocera Wireless Corp. Recall of Cell Phone Batteries Recall Alert U.S. Consumer Product Safety Commission Office of Information and Public Affairs Washington, DC 20207 October 28, 2004 Alert #05-505 CPSC, Kyocera Wireless Corp. Announce Recall of Cell Phone Batteries The following product safety recall was conducted voluntarily by the firm in cooperation with the CPSC. Consumers should stop using recalled products immediately unless otherwise instructed. It is illegal to resell or attempt to resell a recalled consumer product. Name of Product: Batteries in Kyocera Wireless Corp. Cell Phones Units: About 1 million  Manufacturer: Hecmma Group, of El Paso, Texas Distributor: Kyocera Wireless Corp., of San Diego, Calif. Hazard: Some of the cell phone batteries supplied by the battery manufacturer may be counterfeit. This can cause the batteries to short-circuit, overheat and pose burn hazard to consumers. Incidents/Injuries: Kyocera has received 14 reports of battery failures, resulting in smoke and minor property damage. Two minor burn injuries have been reported. Description: The recalled batteries are included in Kyocera Slider, K400, and 3200 Series cell phones. Below is additional information about the cell phones and recalled batteries: Cell Phone Model Name Cell Phone Model Number Battery Model Numbers Battery Description Slider Series SE44/SE47 CV90-L305N-01 CV90-L305P-01 CV90-L305T-01 CV90-L349T-01 Battery has the Kyocera name printed in red and black along with the model number K400 Series \"Phantom\" \"Blade\" \"Rave\" KE413 KE433 KE/KX414 KE/KX424 KE/KX434 CV90-K3040-03 CV90-K3040-09 CV90-K3040-10 CV90-K3040-11 Battery has the Kyocera name printed in red and white along with the model number 3200 Series 3225 3250 (Appears above or below phone display) CV90-K3040-03 CV90-K3040-09 CV90-K3040-10 CV90-K3040-11 Battery has the Kyocera name printed in red and white along with the model number Sold at: ALLTEL, Virgin Mobile, Cricket Communications, MetroPCS, US Cellular and Verizon Wireless stores nationwide; telemarketing retailers; various Web sites; and regional phone carriers sold the cell phones with the recalled batteries. The 3200 Series and K400 Series phones were sold from December 2003 to September 2004 for between $30 and $100. Slider Series phones were sold from May 2004 to September 2004 for between $30 and $170. The recalled batteries were also sold separately during the same periods for between $30 and $60. Manufactured In: Made in China, assembled in Mexico. Remedy: Consumers should immediately stop using the recalled batteries in their cell phones. Kyocera will contact consumers directly to arrange for delivery of a free replacement battery. If consumers with recalled batteries are not contacted by Kyocera, they should call the company to receive a free replacement battery. The batteries should be stored in an environment with non-flammable materials. Consumer Contact: Call Kyocera Wireless Corp. toll-free at (866) 559-3882 between 6 a.m. and 6 p.m. PT Monday through Friday, or request a replacement battery online at www.kyocera-wireless.com Media Contact: John Chier at (858) 882-3543. Slider Series K400 Series 3200 Series Slider Series Battery and Affected Product Codes 3200 and K400 Series Battery and Affected Product Codes',\n",
              "  'URL': 'https://www.cpsc.gov/Recalls/2005/CPSC-Kyocera-Wireless-Corp-Announce-Recall-of-Cell-Phone-Batteries-',\n",
              "  'Title': 'Kyocera Wireless Corp. Recall of Cell Phone Batteries',\n",
              "  'ConsumerContact': None,\n",
              "  'LastPublishDate': '2014-05-23T00:00:00',\n",
              "  'Products': [{'Name': 'Kyocera Wireless cell phone batteries for Phantom, Blade, Rave phones',\n",
              "    'Description': '',\n",
              "    'Model': '',\n",
              "    'Type': 'Telephones, Cell Phones & Accessories',\n",
              "    'CategoryID': '2167',\n",
              "    'NumberOfUnits': ''},\n",
              "   {'Name': 'Kyocera Wireless cell phone batteries for Slider, K400, 3200 series phones',\n",
              "    'Description': '',\n",
              "    'Model': '',\n",
              "    'Type': 'Adapter/Power Supply/Charger/Battery',\n",
              "    'CategoryID': '1808',\n",
              "    'NumberOfUnits': ''}],\n",
              "  'Inconjunctions': [],\n",
              "  'Images': [],\n",
              "  'Injuries': [],\n",
              "  'Manufacturers': [{'Name': 'Kyocera Wireless', 'CompanyID': ''},\n",
              "   {'Name': 'Hecmma Group', 'CompanyID': ''},\n",
              "   {'Name': 'ALLTEL', 'CompanyID': ''},\n",
              "   {'Name': 'Virgin Mobile', 'CompanyID': ''},\n",
              "   {'Name': 'Cricket Communications', 'CompanyID': ''},\n",
              "   {'Name': 'MetroPCS', 'CompanyID': ''},\n",
              "   {'Name': 'US Cellular', 'CompanyID': ''},\n",
              "   {'Name': 'Verizon Wireless', 'CompanyID': ''}],\n",
              "  'Retailers': [],\n",
              "  'Importers': [],\n",
              "  'Distributors': [],\n",
              "  'SoldAtLabel': None,\n",
              "  'ManufacturerCountries': [{'Country': 'China'}, {'Country': 'Mexico'}],\n",
              "  'ProductUPCs': [],\n",
              "  'Hazards': [{'Name': 'Burn - Not Fire-Related',\n",
              "    'HazardType': '',\n",
              "    'HazardTypeID': ''}],\n",
              "  'Remedies': [],\n",
              "  'RemedyOptions': []},\n",
              " {'RecallID': 2758,\n",
              "  'RecallNumber': '04559',\n",
              "  'RecallDate': '2004-06-24T00:00:00',\n",
              "  'Description': 'Verizon Wireless Recall of Counterfeit Cell Phone Batteries Recall Alert U.S. Consumer Product Safety Commission Office of Information and Public Affairs Washington, DC 20207 Originally issued June 24, 2004, Revised November 16, 2004 Alert #04-559 Note: Telephone number change, online registration is no longer available CPSC, Verizon Wireless Announce Recall of Counterfeit Cell Phone Batteries The following product safety recall was conducted voluntarily by the firm in cooperation with the CPSC. Consumers should stop using the product immediately unless otherwise instructed. It is illegal to resell or attempt to resell a recalled consumer product. Name of Product: Counterfeit LG-branded TM-510 Cell Phone Batteries Units: About 50,000 Manufacturer/Importer: Verizon Wireless of Bedminster, N.J. Hazard: Some LG-branded TM-510 batteries may be counterfeit and susceptible to overcharging, especially if used with a non-LG charger. LG Infocomm U.S.A. Inc. states that these are counterfeit LG-branded batteries, which do not contain a safety device in the circuitry to prevent overcharging. In turn, the counterfeit batteries can overheat, posing a fire and burn hazard to users. Incidents/Injuries: Verizon Wireless has received 18 reports of incidents involving counterfeit batteries, including injuries to users and property damage. Description: The recalled batteries can be found in LG TM-510 model cell phones, have a manufacturer/date code of \"AEMLLL 02220,\" AEMMHH 02220,\" \"AEMLLL 02X25H\" or \"AEMMHH 02725\" and were distributed by Verizon Wireless. The manufacturer/date code can be found on the battery, below the words, \"Model/Modelo\" or \"LG.\" The phone\\'s model number appears on the back side of the phone beneath the battery. The cell phones, which come in black or silver, may have the Verizon Wireless name on the front. Sold at: The phones were sold at Verizon Wireless retail locations nationwide and on Verizon Wireless\\'s Web site from April 2001 through December 2002 for between $150 and $200. The batteries were sold from August 2002 to November 2003 for between $40 and $60. Remedy: Consumers with a LG TM510 cell phone battery having one of the identified manufacturer/date codes and purchased from Verizon Wireless should stop charging the battery immediately and contact Verizon Wireless to receive a replacement battery. Verizon Wireless is sending letters directly to consumers notifying them of this hazard. Consumer Contact: Call Verizon Wireless at (800) 922-0204 between 9 a.m. and 8 p.m. ET Monday through Friday.',\n",
              "  'URL': 'https://www.cpsc.gov/Recalls/2004/CPSC-Verizon-Wireless-Announce-Recall-of-Counterfeit-Cell-Phone-Batteries',\n",
              "  'Title': 'Verizon Wireless Recall of Counterfeit Cell Phone Batteries',\n",
              "  'ConsumerContact': None,\n",
              "  'LastPublishDate': '2014-05-23T00:00:00',\n",
              "  'Products': [{'Name': '',\n",
              "    'Description': '',\n",
              "    'Model': '',\n",
              "    'Type': 'Adapter/Power Supply/Charger/Battery',\n",
              "    'CategoryID': '1808',\n",
              "    'NumberOfUnits': ''},\n",
              "   {'Name': 'LG-branded TM-510 Cell Phone (Verizon) Batteries',\n",
              "    'Description': '',\n",
              "    'Model': '',\n",
              "    'Type': 'Telephones, Cell Phones & Accessories',\n",
              "    'CategoryID': '2167',\n",
              "    'NumberOfUnits': ''}],\n",
              "  'Inconjunctions': [],\n",
              "  'Images': [],\n",
              "  'Injuries': [],\n",
              "  'Manufacturers': [{'Name': 'Verizon Wireless', 'CompanyID': ''},\n",
              "   {'Name': 'LG Infocomm', 'CompanyID': ''}],\n",
              "  'Retailers': [],\n",
              "  'Importers': [],\n",
              "  'Distributors': [],\n",
              "  'SoldAtLabel': None,\n",
              "  'ManufacturerCountries': [],\n",
              "  'ProductUPCs': [],\n",
              "  'Hazards': [{'Name': 'Fire & Fire-Related Burn',\n",
              "    'HazardType': '',\n",
              "    'HazardTypeID': ''}],\n",
              "  'Remedies': [],\n",
              "  'RemedyOptions': []},\n",
              " {'RecallID': 2559,\n",
              "  'RecallNumber': '04068',\n",
              "  'RecallDate': '2004-01-23T00:00:00',\n",
              "  'Description': 'January 23, 2004Release # 04-068 Kyocera Wireless Corp.: (800) 349-4478 CPSC Consumer Hotline: (800) 638-2772 CPSC Media Contact: (301) 504-7908 Kyocera Media Contact: (858) 882-3543 CPSC, Kyocera Wireless Corp. Announce Recall of Batteries in Smartphone Cell Phones WASHINGTON, D.C. - The U.S. Consumer Product Safety Commission announces the following recall in voluntary cooperation with the firm below. Consumers should stop using recalled products immediately unless otherwise instructed. It is illegal to resell or attempt to resell a recalled consumer product. Name of product: Batteries in Kyocera Cell Phones (Model 7135 Smartphones) Units: 140,000Manufacturer: Coslight International Group, of Hong Kong, manufactured the batteries for Kyocera Wireless Corp., of San Diego, Calif.Hazard: The recalled batteries can short-circuit and erupt with force or emit excessive heat, posing a burn hazard to consumers.Incidents/Injuries: Kyocera Wireless Corp. has received four reports of battery failures, including one minor burn injury.Description: The recalled batteries are included in Kyocera model 7135 Smartphone cell phones. The black and silver flip-up phones say \"Kyocera\" at the top of the screen. The recalled batteries have the red and white Kyocera name printed on the front and a product code ending with -05 printed on the underside. Sold at: Verizon Wireless, US Cellular and ALLTEL Corporation stores, in addition to Web site and telemarketing retailers nationwide, sold the cell phones with the -05 battery from September 2003 through December 2003 for about $500. The batteries also were sold separately during this time for about $21.Manufactured in: ChinaRemedy: Consumers with the recalled units should immediately stop using the battery in the cell phone. Kyocera Wireless will contact consumers to arrange for delivery of a free replacement battery. If consumers are not contacted by Kyocera by Feb. 6, they are asked to contact the firm to receive the free replacement battery. The batteries should be stored in an environment with non-flammable materials. Consumer Contact: Call Kyocera Wireless Corp. at (800) 349-4478 between 6 a.m. and 6 p.m. PT Monday through Friday, or visit their Web site at www.kyocera-wireless.co',\n",
              "  'URL': 'https://www.cpsc.gov/Recalls/2004/CPSC-Kyocera-Wireless-Corp-Announce-Recall-of-Batteries-in-Smartphone-Cell-Phones-',\n",
              "  'Title': 'CPSC, Kyocera Wireless Corp. Announce Recall of Batteries in Smartphone Cell Phones',\n",
              "  'ConsumerContact': None,\n",
              "  'LastPublishDate': '2014-05-23T00:00:00',\n",
              "  'Products': [{'Name': '',\n",
              "    'Description': '',\n",
              "    'Model': '',\n",
              "    'Type': 'Telephones, Cell Phones & Accessories',\n",
              "    'CategoryID': '2167',\n",
              "    'NumberOfUnits': ''},\n",
              "   {'Name': 'Batteries in Kyocera Smartphone Cell Phones',\n",
              "    'Description': '',\n",
              "    'Model': '',\n",
              "    'Type': 'Adapter/Power Supply/Charger/Battery',\n",
              "    'CategoryID': '1808',\n",
              "    'NumberOfUnits': ''}],\n",
              "  'Inconjunctions': [],\n",
              "  'Images': [],\n",
              "  'Injuries': [],\n",
              "  'Manufacturers': [{'Name': 'Kyocera Wireless', 'CompanyID': ''},\n",
              "   {'Name': 'Coslight International Group', 'CompanyID': ''},\n",
              "   {'Name': 'Verizon Wireless', 'CompanyID': ''},\n",
              "   {'Name': 'US Cellular', 'CompanyID': ''},\n",
              "   {'Name': 'ALLTEL', 'CompanyID': ''}],\n",
              "  'Retailers': [],\n",
              "  'Importers': [],\n",
              "  'Distributors': [],\n",
              "  'SoldAtLabel': None,\n",
              "  'ManufacturerCountries': [{'Country': 'China'}],\n",
              "  'ProductUPCs': [],\n",
              "  'Hazards': [{'Name': 'Burn - Not Fire-Related',\n",
              "    'HazardType': '',\n",
              "    'HazardTypeID': ''}],\n",
              "  'Remedies': [],\n",
              "  'RemedyOptions': []}]"
            ]
          },
          "metadata": {},
          "execution_count": 5
        }
      ]
    },
    {
      "cell_type": "markdown",
      "metadata": {
        "id": "CWk9ceyRgGP_"
      },
      "source": [
        "## Wrangling the Data\n",
        "\n",
        "Piping the data to Pandas is easy, because the preceding code chunk put the JSON data into a native Python dictionary, and the following converts it to a dataframe:\n",
        "\n",
        "    df = pd.DataFrame.from_dict(data)\n",
        "\n",
        "If the data is in raw XML or JSON format --- which might especially be true with other API's --- it would instead be \\texttt{pd.read\\_xml(data)} or \\texttt{pd.read\\_json(data)}. Ironing out these details in advance for other applications is a key part of the presentation for students, but having students resolve these issues as a component of group work or an assignment is a great way to help them mature as coding problem solvers by struggling with documentation and a well-defined problem.\n",
        "\n",
        "Unfortunately, there aren't many non-text fields in the \\texttt{www.saferproducts.gov} data. However, there are a few fields of interest that can be tabulated and discussed, such as RemedyOptions and ManufacturerCountries:\n",
        "\n",
        "    df['RemedyOptions'].value_counts()\n",
        "\n",
        "with output\n",
        "\n",
        "    RemedyOptions\n",
        "    []                                                                               139\n",
        "    [{'Option': 'Repair'}]                                                            49\n",
        "    [{'Option': 'Replace'}]                                                           12\n",
        "    [{'Option': 'Refund'}]                                                             7\n",
        "    [{'Option': 'Replace'}, {'Option': 'Repair'}]                                      4\n",
        "    [{'Option': 'Refund'}, {'Option': 'Replace'}, {'Option': 'Repair'}]                1\n",
        "    [{'Option': 'Replace'}, {'Option': 'Refund'}]                                      1\n",
        "    [{'Option': 'Refund'}, {'Option': 'Repair'}]                                       1\n",
        "    [{'Option': 'Label'}]                                                              1\n",
        "    [{'Option': 'New Instructions'}, {'Option': 'Replace'}, {'Option': 'Refund'}]      1\n",
        "    Name: count, dtype: int64\n",
        "\n",
        "It's appropriate at this point to do some data cleaning, particularly by flattening dictionary entries. With response data that get converted from json to a dictionary, there are often values in the data frame that need to be flattened or unpacked. For example, some values are recorded as \\texttt{ [$\\{$'Country':'Canada'$\\}$]}, or, worse, a dictionary with multiple entries: \\texttt{[ $\\{$ 'Option': 'Replace'$\\}$, $\\{$'Option': 'Repair'$\\}$]  ] }. This can lead to problems when another package refuses to work with a lists of lists or doesn't know how to simplify a dictionary to data, and presents some conceptual questions when cleaning.\n",
        "\n",
        "A simple script to recursively collapse the dictionary entries into a single string is:\n",
        "\n",
        "    temp = df['RemedyOptions']\n",
        "    clean_values = []\n",
        "    for i in range(len(temp)):\n",
        "        if len(temp[i])>0:\n",
        "            values = []\n",
        "            for j in range(len(temp[i])):\n",
        "                values.append(temp[i][j]['Option'] )\n",
        "            clean_values.append(values)\n",
        "        else:\n",
        "            clean_values.append('')\n",
        "    df['remedy'] = clean_values\n",
        "\n",
        "**3. Convert this code chunk into a function you can reuse to flatten dictionaries, or explain clearly the problems you run into while attempting to do so. Make some tables or plots.**\n"
      ]
    },
    {
      "cell_type": "code",
      "source": [
        "import pandas as pd\n"
      ],
      "metadata": {
        "id": "v1UljdSI9kLo"
      },
      "execution_count": null,
      "outputs": []
    },
    {
      "cell_type": "code",
      "source": [
        "df=pd.DataFrame.from_dict(data)"
      ],
      "metadata": {
        "id": "VcDxpEvl8NlR"
      },
      "execution_count": null,
      "outputs": []
    },
    {
      "cell_type": "code",
      "source": [
        "df['Manufacturers'].value_counts()"
      ],
      "metadata": {
        "id": "EwrUtmEx-gif",
        "outputId": "ad0a0cf2-195b-4036-e758-21c443deec9c",
        "colab": {
          "base_uri": "https://localhost:8080/",
          "height": 244
        }
      },
      "execution_count": null,
      "outputs": [
        {
          "output_type": "execute_result",
          "data": {
            "text/plain": [
              "Manufacturers\n",
              "[{'Name': 'Kyocera Wireless', 'CompanyID': ''}, {'Name': 'Hecmma Group', 'CompanyID': ''}, {'Name': 'ALLTEL', 'CompanyID': ''}, {'Name': 'Virgin Mobile', 'CompanyID': ''}, {'Name': 'Cricket Communications', 'CompanyID': ''}, {'Name': 'MetroPCS', 'CompanyID': ''}, {'Name': 'US Cellular', 'CompanyID': ''}, {'Name': 'Verizon Wireless', 'CompanyID': ''}]    1\n",
              "[{'Name': 'Verizon Wireless', 'CompanyID': ''}, {'Name': 'LG Infocomm', 'CompanyID': ''}]                                                                                                                                                                                                                                                                           1\n",
              "[{'Name': 'Kyocera Wireless', 'CompanyID': ''}, {'Name': 'Coslight International Group', 'CompanyID': ''}, {'Name': 'Verizon Wireless', 'CompanyID': ''}, {'Name': 'US Cellular', 'CompanyID': ''}, {'Name': 'ALLTEL', 'CompanyID': ''}]                                                                                                                            1\n",
              "Name: count, dtype: int64"
            ],
            "text/html": [
              "<div>\n",
              "<style scoped>\n",
              "    .dataframe tbody tr th:only-of-type {\n",
              "        vertical-align: middle;\n",
              "    }\n",
              "\n",
              "    .dataframe tbody tr th {\n",
              "        vertical-align: top;\n",
              "    }\n",
              "\n",
              "    .dataframe thead th {\n",
              "        text-align: right;\n",
              "    }\n",
              "</style>\n",
              "<table border=\"1\" class=\"dataframe\">\n",
              "  <thead>\n",
              "    <tr style=\"text-align: right;\">\n",
              "      <th></th>\n",
              "      <th>count</th>\n",
              "    </tr>\n",
              "    <tr>\n",
              "      <th>Manufacturers</th>\n",
              "      <th></th>\n",
              "    </tr>\n",
              "  </thead>\n",
              "  <tbody>\n",
              "    <tr>\n",
              "      <th>[{'Name': 'Kyocera Wireless', 'CompanyID': ''}, {'Name': 'Hecmma Group', 'CompanyID': ''}, {'Name': 'ALLTEL', 'CompanyID': ''}, {'Name': 'Virgin Mobile', 'CompanyID': ''}, {'Name': 'Cricket Communications', 'CompanyID': ''}, {'Name': 'MetroPCS', 'CompanyID': ''}, {'Name': 'US Cellular', 'CompanyID': ''}, {'Name': 'Verizon Wireless', 'CompanyID': ''}]</th>\n",
              "      <td>1</td>\n",
              "    </tr>\n",
              "    <tr>\n",
              "      <th>[{'Name': 'Verizon Wireless', 'CompanyID': ''}, {'Name': 'LG Infocomm', 'CompanyID': ''}]</th>\n",
              "      <td>1</td>\n",
              "    </tr>\n",
              "    <tr>\n",
              "      <th>[{'Name': 'Kyocera Wireless', 'CompanyID': ''}, {'Name': 'Coslight International Group', 'CompanyID': ''}, {'Name': 'Verizon Wireless', 'CompanyID': ''}, {'Name': 'US Cellular', 'CompanyID': ''}, {'Name': 'ALLTEL', 'CompanyID': ''}]</th>\n",
              "      <td>1</td>\n",
              "    </tr>\n",
              "  </tbody>\n",
              "</table>\n",
              "</div><br><label><b>dtype:</b> int64</label>"
            ]
          },
          "metadata": {},
          "execution_count": 8
        }
      ]
    },
    {
      "cell_type": "code",
      "source": [
        "hazard = df['Hazards']"
      ],
      "metadata": {
        "id": "iOPjmqfj7Ysp"
      },
      "execution_count": null,
      "outputs": []
    },
    {
      "cell_type": "code",
      "source": [
        "temp = df['Manufacturers']\n",
        "clean_values = []\n",
        "for i in range(len(temp)):\n",
        "  if len(temp[i])>0:\n",
        "    values = []\n",
        "    for j in range(len(temp[i])):\n",
        "      values.append(temp[i][j]['Name'] )\n",
        "    clean_values.append(values)\n",
        "  else:\n",
        "    clean_values.append('')\n",
        "df['manufacturers'] = clean_values\n",
        "\n"
      ],
      "metadata": {
        "id": "3FyOmFe__ff7"
      },
      "execution_count": null,
      "outputs": []
    },
    {
      "cell_type": "code",
      "source": [
        "clean_values"
      ],
      "metadata": {
        "id": "uDWw7J-i64F6",
        "outputId": "e22032f4-9e14-4c5e-8787-978a91250d81",
        "colab": {
          "base_uri": "https://localhost:8080/"
        }
      },
      "execution_count": null,
      "outputs": [
        {
          "output_type": "execute_result",
          "data": {
            "text/plain": [
              "[['Kyocera Wireless',\n",
              "  'Hecmma Group',\n",
              "  'ALLTEL',\n",
              "  'Virgin Mobile',\n",
              "  'Cricket Communications',\n",
              "  'MetroPCS',\n",
              "  'US Cellular',\n",
              "  'Verizon Wireless'],\n",
              " ['Verizon Wireless', 'LG Infocomm'],\n",
              " ['Kyocera Wireless',\n",
              "  'Coslight International Group',\n",
              "  'Verizon Wireless',\n",
              "  'US Cellular',\n",
              "  'ALLTEL']]"
            ]
          },
          "metadata": {},
          "execution_count": 11
        }
      ]
    },
    {
      "cell_type": "code",
      "source": [
        "df['manufacturers'] = df['manufacturers'].astype(str)"
      ],
      "metadata": {
        "id": "amP-0KBj9G-h"
      },
      "execution_count": null,
      "outputs": []
    },
    {
      "cell_type": "code",
      "source": [
        "import numpy as np\n",
        "import seaborn as sns"
      ],
      "metadata": {
        "id": "3xBz7SAT5MoE"
      },
      "execution_count": null,
      "outputs": []
    },
    {
      "cell_type": "code",
      "source": [
        "var = 'manufacturers'\n",
        "\n"
      ],
      "metadata": {
        "id": "q4VQ7EvD6IV9"
      },
      "execution_count": null,
      "outputs": []
    },
    {
      "cell_type": "code",
      "source": [
        "sns.histplot(df[var])"
      ],
      "metadata": {
        "id": "jGxy5p0M6lmn",
        "outputId": "750199eb-9c14-4daf-88c4-3362946cfd95",
        "colab": {
          "base_uri": "https://localhost:8080/",
          "height": 467
        }
      },
      "execution_count": null,
      "outputs": [
        {
          "output_type": "execute_result",
          "data": {
            "text/plain": [
              "<Axes: xlabel='manufacturers', ylabel='Count'>"
            ]
          },
          "metadata": {},
          "execution_count": 15
        },
        {
          "output_type": "display_data",
          "data": {
            "text/plain": [
              "<Figure size 640x480 with 1 Axes>"
            ],
            "image/png": "[encoded data removed]"
          },
          "metadata": {}
        }
      ]
    },
    {
      "cell_type": "markdown",
      "metadata": {
        "id": "glTQ8P7ggGP_"
      },
      "source": [
        "## Dashboarding the Results (Optional)\n",
        "\n",
        "To complete the pipeline from data to product, we can use \\texttt{streamlit} to quickly convert Python code into a web page that can be accessed locally. This can be done with essentially three lines of code: An import statement, a $.title()$ method call to set the page title, and an $.write()$ call to push the results to the page. Although relatively static, completing this step serves a pedogogical and psychological purpose: It pivots the students to thinking about how to communicate results to an audience, and how the project could become an ongoing endeavor rather than a single analytical exercise.\n",
        "\n",
        "The entire .py file to create the dashboard is\n",
        "\n",
        "    import pandas as pd\n",
        "    import requests\n",
        "    import streamlit as st\n",
        "    # Conduct analysis:\n",
        "    url = 'https://www.saferproducts.gov/RestWebServices/Recall'\n",
        "    query = '?format=json&RecallTitle=Gas'\n",
        "    header = {'User-Agent':\n",
        "              'Mozilla/5.0 (Windows NT 10.0; Win64; x64; rv:124.0) Gecko/20100101 Firefox/124.0'}\n",
        "    raw = requests.get(url+query,headers=header)\n",
        "    data = raw.json()\n",
        "    df = pd.DataFrame.from_dict(data)\n",
        "    temp = df['RemedyOptions']\n",
        "    clean_values = []\n",
        "    for i in range(len(temp)):\n",
        "        if len(temp[i])>0:\n",
        "            values = []\n",
        "            for j in range(len(temp[i])):\n",
        "                values.append(temp[i][j]['Option'] )\n",
        "            clean_values.append(values)\n",
        "        else:\n",
        "            clean_values.append('')\n",
        "    df['remedy'] = clean_values\n",
        "    remedy_counts = df['remedy'].value_counts()\n",
        "    # Create streamlit output:\n",
        "    st.title('Remedy Statistics')\n",
        "    st.write(remedy_counts)\n",
        "\n",
        "To create the web page, run the following at the command line:\n",
        "\n",
        "    streamlit run remedy.py\n",
        "\n",
        "This should convert the above analysis into a web page available from localhost.\n",
        "\n",
        "**4. Produce your own table or plot, and output it to streamlit.**"
      ]
    },
    {
      "cell_type": "code",
      "source": [
        "!pip install streamlit"
      ],
      "metadata": {
        "id": "LoJ50uaPAsgB",
        "outputId": "9c30f57a-2938-4357-b4bf-c262b197ce32",
        "colab": {
          "base_uri": "https://localhost:8080/"
        }
      },
      "execution_count": null,
      "outputs": [
        {
          "output_type": "stream",
          "name": "stdout",
          "text": [
            "Collecting streamlit\n",
            "  Downloading streamlit-1.38.0-py2.py3-none-any.whl.metadata (8.5 kB)\n",
            "Requirement already satisfied: altair<6,>=4.0 in /usr/local/lib/python3.10/dist-packages (from streamlit) (4.2.2)\n",
            "Requirement already satisfied: blinker<2,>=1.0.0 in /usr/lib/python3/dist-packages (from streamlit) (1.4)\n",
            "Requirement already satisfied: cachetools<6,>=4.0 in /usr/local/lib/python3.10/dist-packages (from streamlit) (5.5.0)\n",
            "Requirement already satisfied: click<9,>=7.0 in /usr/local/lib/python3.10/dist-packages (from streamlit) (8.1.7)\n",
            "Requirement already satisfied: numpy<3,>=1.20 in /usr/local/lib/python3.10/dist-packages (from streamlit) (1.26.4)\n",
            "Requirement already satisfied: packaging<25,>=20 in /usr/local/lib/python3.10/dist-packages (from streamlit) (24.1)\n",
            "Requirement already satisfied: pandas<3,>=1.3.0 in /usr/local/lib/python3.10/dist-packages (from streamlit) (2.1.4)\n",
            "Requirement already satisfied: pillow<11,>=7.1.0 in /usr/local/lib/python3.10/dist-packages (from streamlit) (10.4.0)\n",
            "Requirement already satisfied: protobuf<6,>=3.20 in /usr/local/lib/python3.10/dist-packages (from streamlit) (3.20.3)\n",
            "Requirement already satisfied: pyarrow>=7.0 in /usr/local/lib/python3.10/dist-packages (from streamlit) (14.0.2)\n",
            "Requirement already satisfied: requests<3,>=2.27 in /usr/local/lib/python3.10/dist-packages (from streamlit) (2.32.3)\n",
            "Requirement already satisfied: rich<14,>=10.14.0 in /usr/local/lib/python3.10/dist-packages (from streamlit) (13.8.1)\n",
            "Collecting tenacity<9,>=8.1.0 (from streamlit)\n",
            "  Downloading tenacity-8.5.0-py3-none-any.whl.metadata (1.2 kB)\n",
            "Requirement already satisfied: toml<2,>=0.10.1 in /usr/local/lib/python3.10/dist-packages (from streamlit) (0.10.2)\n",
            "Requirement already satisfied: typing-extensions<5,>=4.3.0 in /usr/local/lib/python3.10/dist-packages (from streamlit) (4.12.2)\n",
            "Collecting gitpython!=3.1.19,<4,>=3.0.7 (from streamlit)\n",
            "  Downloading GitPython-3.1.43-py3-none-any.whl.metadata (13 kB)\n",
            "Collecting pydeck<1,>=0.8.0b4 (from streamlit)\n",
            "  Downloading pydeck-0.9.1-py2.py3-none-any.whl.metadata (4.1 kB)\n",
            "Requirement already satisfied: tornado<7,>=6.0.3 in /usr/local/lib/python3.10/dist-packages (from streamlit) (6.3.3)\n",
            "Collecting watchdog<5,>=2.1.5 (from streamlit)\n",
            "  Downloading watchdog-4.0.2-py3-none-manylinux2014_x86_64.whl.metadata (38 kB)\n",
            "Requirement already satisfied: entrypoints in /usr/local/lib/python3.10/dist-packages (from altair<6,>=4.0->streamlit) (0.4)\n",
            "Requirement already satisfied: jinja2 in /usr/local/lib/python3.10/dist-packages (from altair<6,>=4.0->streamlit) (3.1.4)\n",
            "Requirement already satisfied: jsonschema>=3.0 in /usr/local/lib/python3.10/dist-packages (from altair<6,>=4.0->streamlit) (4.23.0)\n",
            "Requirement already satisfied: toolz in /usr/local/lib/python3.10/dist-packages (from altair<6,>=4.0->streamlit) (0.12.1)\n",
            "Collecting gitdb<5,>=4.0.1 (from gitpython!=3.1.19,<4,>=3.0.7->streamlit)\n",
            "  Downloading gitdb-4.0.11-py3-none-any.whl.metadata (1.2 kB)\n",
            "Requirement already satisfied: python-dateutil>=2.8.2 in /usr/local/lib/python3.10/dist-packages (from pandas<3,>=1.3.0->streamlit) (2.8.2)\n",
            "Requirement already satisfied: pytz>=2020.1 in /usr/local/lib/python3.10/dist-packages (from pandas<3,>=1.3.0->streamlit) (2024.2)\n",
            "Requirement already satisfied: tzdata>=2022.1 in /usr/local/lib/python3.10/dist-packages (from pandas<3,>=1.3.0->streamlit) (2024.1)\n",
            "Requirement already satisfied: charset-normalizer<4,>=2 in /usr/local/lib/python3.10/dist-packages (from requests<3,>=2.27->streamlit) (3.3.2)\n",
            "Requirement already satisfied: idna<4,>=2.5 in /usr/local/lib/python3.10/dist-packages (from requests<3,>=2.27->streamlit) (3.10)\n",
            "Requirement already satisfied: urllib3<3,>=1.21.1 in /usr/local/lib/python3.10/dist-packages (from requests<3,>=2.27->streamlit) (2.0.7)\n",
            "Requirement already satisfied: certifi>=2017.4.17 in /usr/local/lib/python3.10/dist-packages (from requests<3,>=2.27->streamlit) (2024.8.30)\n",
            "Requirement already satisfied: markdown-it-py>=2.2.0 in /usr/local/lib/python3.10/dist-packages (from rich<14,>=10.14.0->streamlit) (3.0.0)\n",
            "Requirement already satisfied: pygments<3.0.0,>=2.13.0 in /usr/local/lib/python3.10/dist-packages (from rich<14,>=10.14.0->streamlit) (2.18.0)\n",
            "Collecting smmap<6,>=3.0.1 (from gitdb<5,>=4.0.1->gitpython!=3.1.19,<4,>=3.0.7->streamlit)\n",
            "  Downloading smmap-5.0.1-py3-none-any.whl.metadata (4.3 kB)\n",
            "Requirement already satisfied: MarkupSafe>=2.0 in /usr/local/lib/python3.10/dist-packages (from jinja2->altair<6,>=4.0->streamlit) (2.1.5)\n",
            "Requirement already satisfied: attrs>=22.2.0 in /usr/local/lib/python3.10/dist-packages (from jsonschema>=3.0->altair<6,>=4.0->streamlit) (24.2.0)\n",
            "Requirement already satisfied: jsonschema-specifications>=2023.03.6 in /usr/local/lib/python3.10/dist-packages (from jsonschema>=3.0->altair<6,>=4.0->streamlit) (2023.12.1)\n",
            "Requirement already satisfied: referencing>=0.28.4 in /usr/local/lib/python3.10/dist-packages (from jsonschema>=3.0->altair<6,>=4.0->streamlit) (0.35.1)\n",
            "Requirement already satisfied: rpds-py>=0.7.1 in /usr/local/lib/python3.10/dist-packages (from jsonschema>=3.0->altair<6,>=4.0->streamlit) (0.20.0)\n",
            "Requirement already satisfied: mdurl~=0.1 in /usr/local/lib/python3.10/dist-packages (from markdown-it-py>=2.2.0->rich<14,>=10.14.0->streamlit) (0.1.2)\n",
            "Requirement already satisfied: six>=1.5 in /usr/local/lib/python3.10/dist-packages (from python-dateutil>=2.8.2->pandas<3,>=1.3.0->streamlit) (1.16.0)\n",
            "Downloading streamlit-1.38.0-py2.py3-none-any.whl (8.7 MB)\n",
            "\u001b[2K   \u001b[90m━━━━━━━━━━━━━━━━━━━━━━━━━━━━━━━━━━━━━━━━\u001b[0m \u001b[32m8.7/8.7 MB\u001b[0m \u001b[31m33.1 MB/s\u001b[0m eta \u001b[36m0:00:00\u001b[0m\n",
            "\u001b[?25hDownloading GitPython-3.1.43-py3-none-any.whl (207 kB)\n",
            "\u001b[2K   \u001b[90m━━━━━━━━━━━━━━━━━━━━━━━━━━━━━━━━━━━━━━━━\u001b[0m \u001b[32m207.3/207.3 kB\u001b[0m \u001b[31m14.1 MB/s\u001b[0m eta \u001b[36m0:00:00\u001b[0m\n",
            "\u001b[?25hDownloading pydeck-0.9.1-py2.py3-none-any.whl (6.9 MB)\n",
            "\u001b[2K   \u001b[90m━━━━━━━━━━━━━━━━━━━━━━━━━━━━━━━━━━━━━━━━\u001b[0m \u001b[32m6.9/6.9 MB\u001b[0m \u001b[31m57.9 MB/s\u001b[0m eta \u001b[36m0:00:00\u001b[0m\n",
            "\u001b[?25hDownloading tenacity-8.5.0-py3-none-any.whl (28 kB)\n",
            "Downloading watchdog-4.0.2-py3-none-manylinux2014_x86_64.whl (82 kB)\n",
            "\u001b[2K   \u001b[90m━━━━━━━━━━━━━━━━━━━━━━━━━━━━━━━━━━━━━━━━\u001b[0m \u001b[32m82.9/82.9 kB\u001b[0m \u001b[31m5.6 MB/s\u001b[0m eta \u001b[36m0:00:00\u001b[0m\n",
            "\u001b[?25hDownloading gitdb-4.0.11-py3-none-any.whl (62 kB)\n",
            "\u001b[2K   \u001b[90m━━━━━━━━━━━━━━━━━━━━━━━━━━━━━━━━━━━━━━━━\u001b[0m \u001b[32m62.7/62.7 kB\u001b[0m \u001b[31m2.9 MB/s\u001b[0m eta \u001b[36m0:00:00\u001b[0m\n",
            "\u001b[?25hDownloading smmap-5.0.1-py3-none-any.whl (24 kB)\n",
            "Installing collected packages: watchdog, tenacity, smmap, pydeck, gitdb, gitpython, streamlit\n",
            "  Attempting uninstall: tenacity\n",
            "    Found existing installation: tenacity 9.0.0\n",
            "    Uninstalling tenacity-9.0.0:\n",
            "      Successfully uninstalled tenacity-9.0.0\n",
            "Successfully installed gitdb-4.0.11 gitpython-3.1.43 pydeck-0.9.1 smmap-5.0.1 streamlit-1.38.0 tenacity-8.5.0 watchdog-4.0.2\n"
          ]
        }
      ]
    },
    {
      "cell_type": "code",
      "source": [
        "import pandas as pd\n",
        "import requests\n",
        "import streamlit as st\n",
        "import urllib.request\n",
        "import json\n",
        "\n",
        "# Conduct analysis:\n",
        "url ='https://www.saferproducts.gov/RestWebServices/Recall'\n",
        "apikey = '7ThkbjIxqYaSry2qfz5BKNXjFeaknIaoytkxD8Dr'\n",
        "query ='?format=json&Manufacturer=Verizon'\n",
        "header = {'User-Agent':'Mozilla/5.0 (Windows NT 10.0; Win64; x64; rv:124.0) Gecko/20100101 Firefox/124.0',\n",
        "          'X-Api-Key': apikey}\n",
        "raw = requests.get(url+query,headers=header)\n",
        "response = urllib.request.urlopen(url+query)\n",
        "response_bytes = response.read()\n",
        "data = json.loads(response_bytes) # Convert response to json, because I would get the 403 code when using data = raw.json()\n",
        "response.close()\n",
        "df = pd.DataFrame.from_dict(data)\n",
        "temp = df['Manufacturers']\n",
        "clean_values = []\n",
        "for i in range(len(temp)):\n",
        "  if len(temp[i])>0:\n",
        "    values = []\n",
        "    for j in range(len(temp[i])):\n",
        "      values.append(temp[i][j]['Name'] )\n",
        "    clean_values.append(values)\n",
        "  else:\n",
        "    clean_values.append('')\n",
        "df['manufacturers']= clean_values\n",
        "manufacturer_counts = df['manufacturers'].value_counts()\n",
        "\n",
        "# Create Streamlit Output\n",
        "st.title('Manufacturer Statistics')\n",
        "st.write(manufacturer_counts)\n",
        "\n",
        "\n",
        "\n",
        "\n"
      ],
      "metadata": {
        "id": "erqPJq32-j4W",
        "outputId": "5307021b-95cd-48ac-8be5-35febe1bcd49",
        "colab": {
          "base_uri": "https://localhost:8080/"
        }
      },
      "execution_count": null,
      "outputs": [
        {
          "output_type": "stream",
          "name": "stderr",
          "text": [
            "2024-09-20 05:10:39.562 WARNING streamlit.runtime.scriptrunner_utils.script_run_context: Thread 'MainThread': missing ScriptRunContext! This warning can be ignored when running in bare mode.\n",
            "2024-09-20 05:10:39.744 \n",
            "  \u001b[33m\u001b[1mWarning:\u001b[0m to view this Streamlit app on a browser, run it with the following\n",
            "  command:\n",
            "\n",
            "    streamlit run /usr/local/lib/python3.10/dist-packages/colab_kernel_launcher.py [ARGUMENTS]\n",
            "2024-09-20 05:10:39.748 Thread 'MainThread': missing ScriptRunContext! This warning can be ignored when running in bare mode.\n",
            "2024-09-20 05:10:39.775 Thread 'MainThread': missing ScriptRunContext! This warning can be ignored when running in bare mode.\n",
            "2024-09-20 05:10:39.778 Thread 'MainThread': missing ScriptRunContext! This warning can be ignored when running in bare mode.\n"
          ]
        }
      ]
    },
    {
      "cell_type": "code",
      "source": [
        "!streamlit run manufacturers.py"
      ],
      "metadata": {
        "id": "J8QIYU0nz9bL",
        "outputId": "6e62c571-0ce8-45ba-c6b7-f2a53fa5a55b",
        "colab": {
          "base_uri": "https://localhost:8080/"
        }
      },
      "execution_count": null,
      "outputs": [
        {
          "output_type": "stream",
          "name": "stdout",
          "text": [
            "Usage: streamlit run [OPTIONS] TARGET [ARGS]...\n",
            "Try 'streamlit run --help' for help.\n",
            "\n",
            "Error: Invalid value: File does not exist: manufacturers.py\n"
          ]
        }
      ]
    },
    {
      "cell_type": "markdown",
      "metadata": {
        "id": "1ogbrOZYgGP_"
      },
      "source": [
        "## Other API Sources\n",
        "\n",
        "Valuable and interesting Federal API resources are listed at:\n",
        "\n",
        "    https://catalog.data.gov/dataset/?_res_format_limit=0&res_format=API\n",
        "\n",
        "and in the future will likely easily be found at \\texttt{data.gov}. Some highlights include:\n",
        "\n",
        "- CDC WONDER API for Data Query Web Service: Includes death certificates with causes since approximately the 1990's.\n",
        "- Comprehensive Housing Affordability Strategy (CHAS): Housing and Urban Development (HUD) maintains an API that provides Census data on housing problems and needs unavailable through other sources, including IPUMS.\n",
        "- Federal Election Commission API: Provides historical and up to the minute campaign finance data.\n",
        "- Toxic Release Inventory: Provided by the Environmental Protection Agency, this API documents the release and management of over 800 toxic substances, reported annually by privately owned facilities and the government.\n",
        "- Petroleum Data, Prices: Provides prices of petroleum products and crude oil at weekly, monthly, and yearly time scales.\n",
        "- Fair Market Rents Lookup tool: Fair Market Rents (FMRs) determine the value of housing vouchers for Section 8 renters. This API provides the FMR values and other measures of housing affordability.\n",
        "- Annual Economic Surveys, Business Patterns: Surveys of businesses at the zip code level, tracking economic sentiment and activity.\n",
        "- Food Access Research Atlas: Provides spatial data on food access and the availability of supermarkets within census tracts. Can be merged with census data to look at under-served populations and food deserts.\n",
        "- National Oceanographic and Atmospheric Administration: Provides API access to data on real time weather and climate change projections.\n",
        "\n",
        "Each of these API resources could either be the cornerstone of a project or a source of additional data. These data sources have a number of advantages: They're free, most of them can be accessed using the same API key, and most have similar documentation for how to write a query. This is ideal for students to iterate, experiment, and take risks, with little cost to failure.\n",
        "\n",
        "In addition to government data, many commerical apps provide API access to developers and researchers. AirBnB, Amazon, Reddit, eBay, X, and many others maintain API access to develop third-party apps. These opportunities present many advantages: The data are larger, have more variety, and there are vastly many more cases. Building a third-party app that includes analytics could easily consume an entire semester and open a variety of applications in predictive analytics, natural language processing, and generative AI (e.g. predict which reviews are fake or real for Amazon for a product group like ``women's watches', and then make recommendations for different price points). While an exciting possibility, this can also raise a lot of problems: Some API's cost money or are rate-limited depending on a subscription, and others impose significant constraints on how the data can be used. In some cases, a more useful approach might be explicit web scraping using a package like BeautifulSoup or Selenium. For example, Craigslist has no API, but can easily and productively be scraped using BeautifulSoup.\n",
        "\n",
        "**5. Pick an API, download some data, wrangle them, and produce some EDA results, as we did in the previous steps with the saferproducts.gov API; or, if you can't get it to work, document why. If you have the time and it's low cost, push the results to a streamlit page. If you have had enough, I recommend https://www.eia.gov/opendata/browser/electricity, since there is a friendly query builder that you can use to learn.**"
      ]
    },
    {
      "cell_type": "code",
      "source": [
        "import numpy as np\n",
        "import pandas as pd\n",
        "import urllib.request\n",
        "import json\n",
        "import matplotlib.pyplot as plt"
      ],
      "metadata": {
        "id": "mzKG5EzTMkZh"
      },
      "execution_count": 1,
      "outputs": []
    },
    {
      "cell_type": "code",
      "source": [
        "url = 'https://api.eia.gov/v2/coal/market-sales-price/data/'\n",
        "api_key = '7ThkbjIxqYaSry2qfz5BKNXjFeaknIaoytkxD8Dr'\n",
        "query = f'?frequency=annual&data[0]=price&facets[stateRegionId][]=VA&start=2002&end=2022&sort[0][column]=period&sort[0][direction]=desc&offset=0&length=5000&api_key={api_key}'\n",
        "# added the api-key to the query and the f because it kept saying error 403 and the gemini AI that explains errors on colab said that this would fix it.\n",
        "# I looked up what the f does and it says that it tells it that the api_key will be inserted where the {api_key} place holder is?\n",
        "response = urllib.request.urlopen(url+query)\n",
        "response_bytes = response.read()\n",
        "Data = json.loads(response_bytes)\n",
        "response.close()\n",
        "\n",
        "dc = pd.DataFrame.from_dict(Data['response']['data'])\n",
        "dc.to_csv('coal_data.csv')\n",
        "print(dc.shape)\n",
        "dc.head()"
      ],
      "metadata": {
        "id": "YohZWpvIPrV2",
        "outputId": "f88b6570-e8a5-4e5a-fa76-028d7a48dd2c",
        "colab": {
          "base_uri": "https://localhost:8080/",
          "height": 224
        }
      },
      "execution_count": 5,
      "outputs": [
        {
          "output_type": "stream",
          "name": "stdout",
          "text": [
            "(62, 7)\n"
          ]
        },
        {
          "output_type": "execute_result",
          "data": {
            "text/plain": [
              "  period stateRegionId stateRegionDescription marketTypeId  \\\n",
              "0   2022            VA               Virginia          CAP   \n",
              "1   2022            VA               Virginia          TOT   \n",
              "2   2022            VA               Virginia           OM   \n",
              "3   2021            VA               Virginia          CAP   \n",
              "4   2021            VA               Virginia          TOT   \n",
              "\n",
              "  marketTypeDescription   price            price-units  \n",
              "0               Captive       w  dollars per short ton  \n",
              "1                 Total  211.57  dollars per short ton  \n",
              "2           Open Market       w  dollars per short ton  \n",
              "3               Captive       w  dollars per short ton  \n",
              "4                 Total   120.5  dollars per short ton  "
            ],
            "text/html": [
              "\n",
              "  <div id=\"df-dc808bd1-1fb9-41e2-81b0-65a90dfd0410\" class=\"colab-df-container\">\n",
              "    <div>\n",
              "<style scoped>\n",
              "    .dataframe tbody tr th:only-of-type {\n",
              "        vertical-align: middle;\n",
              "    }\n",
              "\n",
              "    .dataframe tbody tr th {\n",
              "        vertical-align: top;\n",
              "    }\n",
              "\n",
              "    .dataframe thead th {\n",
              "        text-align: right;\n",
              "    }\n",
              "</style>\n",
              "<table border=\"1\" class=\"dataframe\">\n",
              "  <thead>\n",
              "    <tr style=\"text-align: right;\">\n",
              "      <th></th>\n",
              "      <th>period</th>\n",
              "      <th>stateRegionId</th>\n",
              "      <th>stateRegionDescription</th>\n",
              "      <th>marketTypeId</th>\n",
              "      <th>marketTypeDescription</th>\n",
              "      <th>price</th>\n",
              "      <th>price-units</th>\n",
              "    </tr>\n",
              "  </thead>\n",
              "  <tbody>\n",
              "    <tr>\n",
              "      <th>0</th>\n",
              "      <td>2022</td>\n",
              "      <td>VA</td>\n",
              "      <td>Virginia</td>\n",
              "      <td>CAP</td>\n",
              "      <td>Captive</td>\n",
              "      <td>w</td>\n",
              "      <td>dollars per short ton</td>\n",
              "    </tr>\n",
              "    <tr>\n",
              "      <th>1</th>\n",
              "      <td>2022</td>\n",
              "      <td>VA</td>\n",
              "      <td>Virginia</td>\n",
              "      <td>TOT</td>\n",
              "      <td>Total</td>\n",
              "      <td>211.57</td>\n",
              "      <td>dollars per short ton</td>\n",
              "    </tr>\n",
              "    <tr>\n",
              "      <th>2</th>\n",
              "      <td>2022</td>\n",
              "      <td>VA</td>\n",
              "      <td>Virginia</td>\n",
              "      <td>OM</td>\n",
              "      <td>Open Market</td>\n",
              "      <td>w</td>\n",
              "      <td>dollars per short ton</td>\n",
              "    </tr>\n",
              "    <tr>\n",
              "      <th>3</th>\n",
              "      <td>2021</td>\n",
              "      <td>VA</td>\n",
              "      <td>Virginia</td>\n",
              "      <td>CAP</td>\n",
              "      <td>Captive</td>\n",
              "      <td>w</td>\n",
              "      <td>dollars per short ton</td>\n",
              "    </tr>\n",
              "    <tr>\n",
              "      <th>4</th>\n",
              "      <td>2021</td>\n",
              "      <td>VA</td>\n",
              "      <td>Virginia</td>\n",
              "      <td>TOT</td>\n",
              "      <td>Total</td>\n",
              "      <td>120.5</td>\n",
              "      <td>dollars per short ton</td>\n",
              "    </tr>\n",
              "  </tbody>\n",
              "</table>\n",
              "</div>\n",
              "    <div class=\"colab-df-buttons\">\n",
              "\n",
              "  <div class=\"colab-df-container\">\n",
              "    <button class=\"colab-df-convert\" onclick=\"convertToInteractive('df-dc808bd1-1fb9-41e2-81b0-65a90dfd0410')\"\n",
              "            title=\"Convert this dataframe to an interactive table.\"\n",
              "            style=\"display:none;\">\n",
              "\n",
              "  <svg xmlns=\"http://www.w3.org/2000/svg\" height=\"24px\" viewBox=\"0 -960 960 960\">\n",
              "    <path d=\"M120-120v-720h720v720H120Zm60-500h600v-160H180v160Zm220 220h160v-160H400v160Zm0 220h160v-160H400v160ZM180-400h160v-160H180v160Zm440 0h160v-160H620v160ZM180-180h160v-160H180v160Zm440 0h160v-160H620v160Z\"/>\n",
              "  </svg>\n",
              "    </button>\n",
              "\n",
              "  <style>\n",
              "    .colab-df-container {\n",
              "      display:flex;\n",
              "      gap: 12px;\n",
              "    }\n",
              "\n",
              "    .colab-df-convert {\n",
              "      background-color: #E8F0FE;\n",
              "      border: none;\n",
              "      border-radius: 50%;\n",
              "      cursor: pointer;\n",
              "      display: none;\n",
              "      fill: #1967D2;\n",
              "      height: 32px;\n",
              "      padding: 0 0 0 0;\n",
              "      width: 32px;\n",
              "    }\n",
              "\n",
              "    .colab-df-convert:hover {\n",
              "      background-color: #E2EBFA;\n",
              "      box-shadow: 0px 1px 2px rgba(60, 64, 67, 0.3), 0px 1px 3px 1px rgba(60, 64, 67, 0.15);\n",
              "      fill: #174EA6;\n",
              "    }\n",
              "\n",
              "    .colab-df-buttons div {\n",
              "      margin-bottom: 4px;\n",
              "    }\n",
              "\n",
              "    [theme=dark] .colab-df-convert {\n",
              "      background-color: #3B4455;\n",
              "      fill: #D2E3FC;\n",
              "    }\n",
              "\n",
              "    [theme=dark] .colab-df-convert:hover {\n",
              "      background-color: #434B5C;\n",
              "      box-shadow: 0px 1px 3px 1px rgba(0, 0, 0, 0.15);\n",
              "      filter: drop-shadow(0px 1px 2px rgba(0, 0, 0, 0.3));\n",
              "      fill: #FFFFFF;\n",
              "    }\n",
              "  </style>\n",
              "\n",
              "    <script>\n",
              "      const buttonEl =\n",
              "        document.querySelector('#df-dc808bd1-1fb9-41e2-81b0-65a90dfd0410 button.colab-df-convert');\n",
              "      buttonEl.style.display =\n",
              "        google.colab.kernel.accessAllowed ? 'block' : 'none';\n",
              "\n",
              "      async function convertToInteractive(key) {\n",
              "        const element = document.querySelector('#df-dc808bd1-1fb9-41e2-81b0-65a90dfd0410');\n",
              "        const dataTable =\n",
              "          await google.colab.kernel.invokeFunction('convertToInteractive',\n",
              "                                                    [key], {});\n",
              "        if (!dataTable) return;\n",
              "\n",
              "        const docLinkHtml = 'Like what you see? Visit the ' +\n",
              "          '<a target=\"_blank\" href=https://colab.research.google.com/notebooks/data_table.ipynb>data table notebook</a>'\n",
              "          + ' to learn more about interactive tables.';\n",
              "        element.innerHTML = '';\n",
              "        dataTable['output_type'] = 'display_data';\n",
              "        await google.colab.output.renderOutput(dataTable, element);\n",
              "        const docLink = document.createElement('div');\n",
              "        docLink.innerHTML = docLinkHtml;\n",
              "        element.appendChild(docLink);\n",
              "      }\n",
              "    </script>\n",
              "  </div>\n",
              "\n",
              "\n",
              "<div id=\"df-9f141084-9f30-461c-93c0-899439ca0e92\">\n",
              "  <button class=\"colab-df-quickchart\" onclick=\"quickchart('df-9f141084-9f30-461c-93c0-899439ca0e92')\"\n",
              "            title=\"Suggest charts\"\n",
              "            style=\"display:none;\">\n",
              "\n",
              "<svg xmlns=\"http://www.w3.org/2000/svg\" height=\"24px\"viewBox=\"0 0 24 24\"\n",
              "     width=\"24px\">\n",
              "    <g>\n",
              "        <path d=\"M19 3H5c-1.1 0-2 .9-2 2v14c0 1.1.9 2 2 2h14c1.1 0 2-.9 2-2V5c0-1.1-.9-2-2-2zM9 17H7v-7h2v7zm4 0h-2V7h2v10zm4 0h-2v-4h2v4z\"/>\n",
              "    </g>\n",
              "</svg>\n",
              "  </button>\n",
              "\n",
              "<style>\n",
              "  .colab-df-quickchart {\n",
              "      --bg-color: #E8F0FE;\n",
              "      --fill-color: #1967D2;\n",
              "      --hover-bg-color: #E2EBFA;\n",
              "      --hover-fill-color: #174EA6;\n",
              "      --disabled-fill-color: #AAA;\n",
              "      --disabled-bg-color: #DDD;\n",
              "  }\n",
              "\n",
              "  [theme=dark] .colab-df-quickchart {\n",
              "      --bg-color: #3B4455;\n",
              "      --fill-color: #D2E3FC;\n",
              "      --hover-bg-color: #434B5C;\n",
              "      --hover-fill-color: #FFFFFF;\n",
              "      --disabled-bg-color: #3B4455;\n",
              "      --disabled-fill-color: #666;\n",
              "  }\n",
              "\n",
              "  .colab-df-quickchart {\n",
              "    background-color: var(--bg-color);\n",
              "    border: none;\n",
              "    border-radius: 50%;\n",
              "    cursor: pointer;\n",
              "    display: none;\n",
              "    fill: var(--fill-color);\n",
              "    height: 32px;\n",
              "    padding: 0;\n",
              "    width: 32px;\n",
              "  }\n",
              "\n",
              "  .colab-df-quickchart:hover {\n",
              "    background-color: var(--hover-bg-color);\n",
              "    box-shadow: 0 1px 2px rgba(60, 64, 67, 0.3), 0 1px 3px 1px rgba(60, 64, 67, 0.15);\n",
              "    fill: var(--button-hover-fill-color);\n",
              "  }\n",
              "\n",
              "  .colab-df-quickchart-complete:disabled,\n",
              "  .colab-df-quickchart-complete:disabled:hover {\n",
              "    background-color: var(--disabled-bg-color);\n",
              "    fill: var(--disabled-fill-color);\n",
              "    box-shadow: none;\n",
              "  }\n",
              "\n",
              "  .colab-df-spinner {\n",
              "    border: 2px solid var(--fill-color);\n",
              "    border-color: transparent;\n",
              "    border-bottom-color: var(--fill-color);\n",
              "    animation:\n",
              "      spin 1s steps(1) infinite;\n",
              "  }\n",
              "\n",
              "  @keyframes spin {\n",
              "    0% {\n",
              "      border-color: transparent;\n",
              "      border-bottom-color: var(--fill-color);\n",
              "      border-left-color: var(--fill-color);\n",
              "    }\n",
              "    20% {\n",
              "      border-color: transparent;\n",
              "      border-left-color: var(--fill-color);\n",
              "      border-top-color: var(--fill-color);\n",
              "    }\n",
              "    30% {\n",
              "      border-color: transparent;\n",
              "      border-left-color: var(--fill-color);\n",
              "      border-top-color: var(--fill-color);\n",
              "      border-right-color: var(--fill-color);\n",
              "    }\n",
              "    40% {\n",
              "      border-color: transparent;\n",
              "      border-right-color: var(--fill-color);\n",
              "      border-top-color: var(--fill-color);\n",
              "    }\n",
              "    60% {\n",
              "      border-color: transparent;\n",
              "      border-right-color: var(--fill-color);\n",
              "    }\n",
              "    80% {\n",
              "      border-color: transparent;\n",
              "      border-right-color: var(--fill-color);\n",
              "      border-bottom-color: var(--fill-color);\n",
              "    }\n",
              "    90% {\n",
              "      border-color: transparent;\n",
              "      border-bottom-color: var(--fill-color);\n",
              "    }\n",
              "  }\n",
              "</style>\n",
              "\n",
              "  <script>\n",
              "    async function quickchart(key) {\n",
              "      const quickchartButtonEl =\n",
              "        document.querySelector('#' + key + ' button');\n",
              "      quickchartButtonEl.disabled = true;  // To prevent multiple clicks.\n",
              "      quickchartButtonEl.classList.add('colab-df-spinner');\n",
              "      try {\n",
              "        const charts = await google.colab.kernel.invokeFunction(\n",
              "            'suggestCharts', [key], {});\n",
              "      } catch (error) {\n",
              "        console.error('Error during call to suggestCharts:', error);\n",
              "      }\n",
              "      quickchartButtonEl.classList.remove('colab-df-spinner');\n",
              "      quickchartButtonEl.classList.add('colab-df-quickchart-complete');\n",
              "    }\n",
              "    (() => {\n",
              "      let quickchartButtonEl =\n",
              "        document.querySelector('#df-9f141084-9f30-461c-93c0-899439ca0e92 button');\n",
              "      quickchartButtonEl.style.display =\n",
              "        google.colab.kernel.accessAllowed ? 'block' : 'none';\n",
              "    })();\n",
              "  </script>\n",
              "</div>\n",
              "\n",
              "    </div>\n",
              "  </div>\n"
            ],
            "application/vnd.google.colaboratory.intrinsic+json": {
              "type": "dataframe",
              "variable_name": "dc",
              "summary": "{\n  \"name\": \"dc\",\n  \"rows\": 62,\n  \"fields\": [\n    {\n      \"column\": \"period\",\n      \"properties\": {\n        \"dtype\": \"object\",\n        \"num_unique_values\": 21,\n        \"samples\": [\n          \"2022\",\n          \"2005\",\n          \"2007\"\n        ],\n        \"semantic_type\": \"\",\n        \"description\": \"\"\n      }\n    },\n    {\n      \"column\": \"stateRegionId\",\n      \"properties\": {\n        \"dtype\": \"category\",\n        \"num_unique_values\": 1,\n        \"samples\": [\n          \"VA\"\n        ],\n        \"semantic_type\": \"\",\n        \"description\": \"\"\n      }\n    },\n    {\n      \"column\": \"stateRegionDescription\",\n      \"properties\": {\n        \"dtype\": \"category\",\n        \"num_unique_values\": 1,\n        \"samples\": [\n          \"Virginia\"\n        ],\n        \"semantic_type\": \"\",\n        \"description\": \"\"\n      }\n    },\n    {\n      \"column\": \"marketTypeId\",\n      \"properties\": {\n        \"dtype\": \"category\",\n        \"num_unique_values\": 3,\n        \"samples\": [\n          \"CAP\"\n        ],\n        \"semantic_type\": \"\",\n        \"description\": \"\"\n      }\n    },\n    {\n      \"column\": \"marketTypeDescription\",\n      \"properties\": {\n        \"dtype\": \"category\",\n        \"num_unique_values\": 3,\n        \"samples\": [\n          \"Captive\"\n        ],\n        \"semantic_type\": \"\",\n        \"description\": \"\"\n      }\n    },\n    {\n      \"column\": \"price\",\n      \"properties\": {\n        \"dtype\": \"string\",\n        \"num_unique_values\": 41,\n        \"samples\": [\n          \"81.12\"\n        ],\n        \"semantic_type\": \"\",\n        \"description\": \"\"\n      }\n    },\n    {\n      \"column\": \"price-units\",\n      \"properties\": {\n        \"dtype\": \"category\",\n        \"num_unique_values\": 1,\n        \"samples\": [\n          \"dollars per short ton\"\n        ],\n        \"semantic_type\": \"\",\n        \"description\": \"\"\n      }\n    }\n  ]\n}"
            }
          },
          "metadata": {},
          "execution_count": 5
        }
      ]
    },
    {
      "cell_type": "code",
      "source": [
        "dc.plot.scatter(y='price',x='period')"
      ],
      "metadata": {
        "id": "DHbjmR_5RyUv",
        "outputId": "5a48578c-f3f2-4236-af79-7e1fa4da45d4",
        "colab": {
          "base_uri": "https://localhost:8080/",
          "height": 467
        }
      },
      "execution_count": 9,
      "outputs": [
        {
          "output_type": "execute_result",
          "data": {
            "text/plain": [
              "<Axes: xlabel='period', ylabel='price'>"
            ]
          },
          "metadata": {},
          "execution_count": 9
        },
        {
          "output_type": "display_data",
          "data": {
            "text/plain": [
              "<Figure size 640x480 with 1 Axes>"
            ],
            "image/png": "[encoded data removed]"
          },
          "metadata": {}
        }
      ]
    }
  ],
  "metadata": {
    "language_info": {
      "name": "python"
    },
    "colab": {
      "provenance": []
    },
    "kernelspec": {
      "name": "python3",
      "display_name": "Python 3"
    }
  },
  "nbformat": 4,
  "nbformat_minor": 0
}