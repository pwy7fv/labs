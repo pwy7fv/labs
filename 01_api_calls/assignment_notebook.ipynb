{
  "cells": [
    {
      "cell_type": "markdown",
      "metadata": {
        "id": "Yi7xzykjgGP9"
      },
      "source": [
        "## Lab 1: Getting data from API's\n",
        "\n",
        "A great source of data and Pandas practice is getting data from the Internet. It is not going to come in a .csv file, though: It will be a stream of records, typically in XML (eXtensible Mark-up Language) or JSON (JavaScript Object Notation) format.\n",
        "\n",
        "We'll look at a very simple API and some useful code chunks for getting and analyzing data, and then you'll take a look at the APIs available from the Federal government as the main work for your lab.\n"
      ]
    },
    {
      "cell_type": "markdown",
      "metadata": {
        "id": "Ko09F0g3gGP-"
      },
      "source": [
        "## API Queries\n",
        "\n",
        "The core programming skill of the activity is to learn to query an online Application Programmer Interface (API). It is a similar experience to browsing the Internet, and initial results can be displayed the web browser. When visiting a web page, the address bar typically contains something like\n",
        "$$\n",
        "\\texttt{https://} \\underbrace{\\texttt{www.}}_{\\text{World Wide Web subdomain}} \\texttt{domain}. \\underbrace{\\texttt{tld}}_{\\text{Top level domain}},\n",
        "$$\n",
        "where the https:// specifies the protocol, www. specifies the world-wide-web subdomain, the domain is the entity, and the top-level domain .tld is typically something like .com or .gov, but is increasingly varied as ICANN releases more TLD's into circulation.\n",
        "\n",
        "With an online API, the user instead enters a url that goes directly to an API subdomain\n",
        "$$\n",
        "\\texttt{https://} \\underbrace{\\texttt{api.}}_{\\text{Application programmer interface}} \\texttt{domain.tld}/ \\texttt{(the query)}\n",
        "$$\n",
        "or accesses REST services as\n",
        "$$\n",
        "\\texttt{https://www.domain.tld} \\underbrace{\\texttt{/REST}}_{\\text{Accesses REST services}}/ \\texttt{(the query)}\n",
        "$$\n",
        "This accesses data on the domain's servers and returns the result directly to the user.\n",
        "\n",
        "The query itself is typically a string beginning with a question mark ?, followed by a series of expressions joined by ampersands &. For example,\n",
        "\n",
        "`?ProductType=Phone\\&Manufacturer=Apple`\n",
        "\n",
        "passes a query requesting all records for which the product type is recorded as phone and the manufacturer is recorded as Apple. Some API's include date ranges and other, more complex requests.\n",
        "\n",
        "To get started, a simple warm-up is to use the API from saferproducts.gov, which has a simple and intuitive structure for queries, and the results are simple enough to look at in the browser. Typing this in the address bar in a browser should yield about thirty records:\n",
        "\n",
        "    https://www.saferproducts.gov/RestWebServices/Recall?format=json&ProductType=Phone  \n",
        "\n",
        "with the first being, on this occasion:\n",
        "\n",
        "    \"RecallID\": 7856,\n",
        "    \"RecallNumber\": \"16266\",\n",
        "    \"RecallDate\": \"2016-09-15T00:00:00\",\n",
        "    \"Description\": \"This recall involves the Samsung Galaxy Note7 smartphone sold before\n",
        "    September 15, 2016. The recalled devices have a 5.7 inch screen and were sold in the\n",
        "    following colors: black onyx, blue coral, gold platinum and silver titanium with a\n",
        "    matching stylus. Samsung is printed on the top front of the phone and Galaxy Note7\n",
        "    is printed on the back of the phone. To determine if your phone has been recalled,\n",
        "    locate the IMEI number on the back of the phone or the packaging, and enter the IMEI\n",
        "    number into the online registration site www.samsung.com or call Samsung toll-free\n",
        "    at 844-365-6197.\",\n",
        "    \"URL\": \"https://www.cpsc.gov/Recalls/2016/Samsung-Recalls-Galaxy-Note7-Smartphones\",\n",
        "    \"Title\": \"Samsung Recalls Galaxy Note7 Smartphones Due to Serious Fire and Burn Hazards\",\n",
        "    \"ConsumerContact\": \"Contact your wireless carrier or place of purchase, call Samsung\n",
        "    toll-free at 844-365-6197 anytime, or go online at www.samsung.com.\",\n",
        "    \"LastPublishDate\": \"2016-10-27T00:00:00\"\n",
        "\n",
        "The query itself in this case is:\n",
        "\n",
        "    ?format=json&ProductType=Phone  \n",
        "\n",
        "The quert requests all of the recalls in JavaScript Object Notation (json) format, where the `ProductType` variable is equal to `Phone`. In addition to `ProductType`, other options include:\n",
        "\n",
        "    RecallID,\n",
        "    RecallNumber,\n",
        "    RecallDateStart,\n",
        "    RecallDateEnd,\n",
        "    RecallURL,\n",
        "    LastPublishDateStart,\n",
        "    LastPublishDateEnd,\n",
        "    RecallTitle,\n",
        "    ConsumerContact,\n",
        "    RecallDescription,\n",
        "    ProductName,\n",
        "    ProductDescription,\n",
        "    ProductModel,\n",
        "    ProductType,\n",
        "    InconjunctionURL,\n",
        "    ImageURL,\n",
        "    Injury,\n",
        "    Manufacturer,\n",
        "    Retailer,\n",
        "    Importer,\n",
        "    Distributor,\n",
        "    ManufacturerCountry,\n",
        "    UPC,\n",
        "    Hazard,\n",
        "    Remedy,\n",
        "    RemedyOption\n",
        "\n",
        "**1. Practice writing queries using the saferproducts.gov API and your web browser.**"
      ]
    },
    {
      "cell_type": "code",
      "source": [
        "https://www.saferproducts.gov/RestWebServices/Recall?format=json&Manufacturer=Verizon"
      ],
      "metadata": {
        "id": "AC1CvU2K5o3U"
      },
      "execution_count": null,
      "outputs": []
    },
    {
      "cell_type": "markdown",
      "source": [
        " \"RecallID\": 3032,\n",
        "    \"RecallNumber\": \"05505\",\n",
        "    \"RecallDate\": \"2004-10-28T00:00:00\",\n",
        "    \"Description\": \"Kyocera Wireless Corp. Recall of Cell Phone Batteries Recall Alert U.S. Consumer Product Safety Commission Office of Information and Public Affairs Washington, DC 20207 October 28, 2004 Alert #05-505 CPSC, Kyocera Wireless Corp. Announce Recall of Cell Phone Batteries The following product safety recall was conducted voluntarily by the firm in cooperation with the CPSC. Consumers should stop using recalled products immediately unless otherwise instructed. It is illegal to resell or attempt to resell a recalled consumer product. Name of Product: Batteries in Kyocera Wireless Corp. Cell Phones Units: About 1 million  Manufacturer: Hecmma Group, of El Paso, Texas Distributor: Kyocera Wireless Corp., of San Diego, Calif. Hazard: Some of the cell phone batteries supplied by the battery manufacturer may be counterfeit. This can cause the batteries to short-circuit, overheat and pose burn hazard to consumers. Incidents/Injuries: Kyocera has received 14 reports of battery failures, resulting in smoke and minor property damage. Two minor burn injuries have been reported. Description: The recalled batteries are included in Kyocera Slider, K400, and 3200 Series cell phones. Below is additional information about the cell phones and recalled batteries: Cell Phone Model Name Cell Phone Model Number Battery Model Numbers Battery Description Slider Series SE44/SE47 CV90-L305N-01 CV90-L305P-01 CV90-L305T-01 CV90-L349T-01 Battery has the Kyocera name printed in red and black along with the model number K400 Series \\\"Phantom\\\" \\\"Blade\\\" \\\"Rave\\\" KE413 KE433 KE/KX414 KE/KX424 KE/KX434 CV90-K3040-03 CV90-K3040-09 CV90-K3040-10 CV90-K3040-11 Battery has the Kyocera name printed in red and white along with the model number 3200 Series 3225 3250 (Appears above or below phone display) CV90-K3040-03 CV90-K3040-09 CV90-K3040-10 CV90-K3040-11 Battery has the Kyocera name printed in red and white along with the model number Sold at: ALLTEL, Virgin Mobile, Cricket Communications, MetroPCS, US Cellular and Verizon Wireless stores nationwide; telemarketing retailers; various Web sites; and regional phone carriers sold the cell phones with the recalled batteries. The 3200 Series and K400 Series phones were sold from December 2003 to September 2004 for between $30 and $100. Slider Series phones were sold from May 2004 to September 2004 for between $30 and $170. The recalled batteries were also sold separately during the same periods for between $30 and $60. Manufactured In: Made in China, assembled in Mexico. Remedy: Consumers should immediately stop using the recalled batteries in their cell phones. Kyocera will contact consumers directly to arrange for delivery of a free replacement battery. If consumers with recalled batteries are not contacted by Kyocera, they should call the company to receive a free replacement battery. The batteries should be stored in an environment with non-flammable materials. Consumer Contact: Call Kyocera Wireless Corp. toll-free at (866) 559-3882 between 6 a.m. and 6 p.m. PT Monday through Friday, or request a replacement battery online at www.kyocera-wireless.com Media Contact: John Chier at (858) 882-3543. Slider Series K400 Series 3200 Series Slider Series Battery and Affected Product Codes 3200 and K400 Series Battery and Affected Product Codes\",\n",
        "    \"URL\": \"https://www.cpsc.gov/Recalls/2005/CPSC-Kyocera-Wireless-Corp-Announce-Recall-of-Cell-Phone-Batteries-\",\n",
        "    \"Title\": \"Kyocera Wireless Corp. Recall of Cell Phone Batteries\",\n",
        "    \"ConsumerContact\": null,\n",
        "    \"LastPublishDate\": \"2014-05-23T00:00:00\",[link text](https://)"
      ],
      "metadata": {
        "id": "5boAq1E55B2P"
      }
    },
    {
      "cell_type": "code",
      "source": [
        "?format=json&Hazard=Heat"
      ],
      "metadata": {
        "id": "PGgT0RUl5t-t"
      },
      "execution_count": null,
      "outputs": []
    },
    {
      "cell_type": "markdown",
      "source": [
        "\"RecallID\": 9167,\n",
        "\"RecallNumber\": \"22016\",\n",
        "\"RecallDate\": \"2021-11-03T00:00:00\",\n",
        "\"Description\": \"The recall involves propane and natural gas water heaters in 40, 50, and 75 gallon capacities. The recalled water heaters are white with a red \\\"Giant\\\" logo decal on the front. The water heaters have a nameplate near the Emerson gas control valve with the following model number ranges. UG40-38LFPV2-P1U-US, UG40-40LFPV2-N1U-US, UG50-38LFPV2-P1U-US, UG50-38LFPV2-P2U-US, UG50-38TFPDV1-N2U-US, UG50-40LFPV2-N1U-US, UG50-40LFPV2-N2U-US, UG75-76MEPV1-N2U-US, UG75-76MEPV1-P2U-US. The control valves are black with a white \\\"Emerson\\\" logo on the front.  The Emerson control valve model numbers and date code are located on a label on the right-hand side of the bracket holding the Emerson control valve to the gas water heater.  The recalled control valve model numbers are 37H73A-301P1 (natural gas) and 37H74A-301P1 (propane) with a date code between 1821 and 1839.\",\n",
        "\"URL\": \"https://www.cpsc.gov/Recalls/2022/Usines-Giant-Factories-Recalls-Gas-Water-Heaters-with-Emerson-Control-Valves-Due-to-Risk-of-Carbon-Monoxide-Poisoning\",\n",
        "\"Title\": \"Usines Giant Factories Recalls Gas Water Heaters with Emerson Control Valves Due to Risk of Carbon Monoxide Poisoning\",\n",
        "\"ConsumerContact\": \"Giant at 800 363-9354 from 8 a.m. to 5 p.m. ET Monday through Thursday and 8 a.m. to 3 p.m. ET on Friday, or e-mail at recall@giantinc.com. or online at www.giantinc.com then click on \\\"Recall Information\\\" located at the bottom of the page, or click on https://giantinc.com/en/recall-information.\",\n",
        "\"LastPublishDate\": \"2021-11-03T00:00:00\","
      ],
      "metadata": {
        "id": "pFl8qISq46Os"
      }
    },
    {
      "cell_type": "markdown",
      "metadata": {
        "id": "8Zwfi6ndgGP-"
      },
      "source": [
        "## Accessing API's with Python\n",
        "\n",
        "Anytime you use a computer to access resources on the Internet, you will likely run into problems. There are many options, but two with low coding overhead: The `requests` and `urrlib.requests` packages.\n",
        "\n",
        "The following code chunk uses the `requests` package to get the same kind of data that was being displayed in the browser, but in an interactive Python session:\n",
        "\n",
        "    import requests\n",
        "    url = 'https://www.saferproducts.gov/RestWebServices/' # Location of the API\n",
        "    query = 'Recall?format=json&ProductType=Exercise' # The query\n",
        "    header = {'User-Agent': 'Mozilla/5.0 (Windows NT 10.0; Win64; x64; rv:124.0)\n",
        "        Gecko/20100101 Firefox/124.0'} # The user-agent to avoid being blocked\n",
        "    raw = requests.get(url+query,headers=header) # Query the database\n",
        "    data = raw.json() # Convert data from json to dictionary\n",
        "\n",
        "To make the code easier to read, it separates the url and the query into two different strings, then concatenates them in the GET request. This makes it easier to edit the query, as well as suggests a simple way to loop over a number of queries that might be sent to the same API.\n",
        "\n",
        "Many resources are designed to block access from particular kinds of users. In order to circumvent these obstacles, you can specify a `header` dictionary that presents the query to the server as coming from a hypothetical and common user. In this case, the header presents the query as coming from a Firefox browser from a Windows computer, rather than something like `python-requests/3.12.1`. This problem appears generally in scraping data from the web, and can grind the process to a halt. For whatever reason, I have been blocked and gotten 403 errors with the `requests` package, which motivated me to prepare a second alternative that seems more robust:\n",
        "\n",
        "    import urllib.request\n",
        "    import json\n",
        "    url = 'https://www.saferproducts.gov/RestWebServices/' # Location of the API\n",
        "    query = 'Recall?format=json&ProductType=Exercise' # The query\n",
        "    response = urllib.request.urlopen(url+query)\n",
        "    response_bytes = response.read()\n",
        "    data = json.loads(response_bytes) # Convert response to json\n",
        "    response.close()\n",
        "\n",
        "This is a bit more code and some steps are a bit less human-friendly, but seems to work a bit more reliably than `requests`.\n",
        "\n",
        "**2. Practice with the saferproducts.gov API and the above code in a notebook to see how API's work, in general.**"
      ]
    },
    {
      "cell_type": "code",
      "source": [
        "import requests\n",
        "url = 'https://www.saferproducts.gov/RestWebServices/'\n",
        "query = 'Recall?format=json&Hazard=Heat'\n",
        "header = {'User-Agent':'Mozilla/5.0 (Windows NT 10.0; Win64; x64; rv:124.0) Gecko/20100101 Firefox/124.0'}\n",
        "raw = requests.get(url+query,headers=header)\n",
        "data = raw.json()"
      ],
      "metadata": {
        "id": "j5lo2fqT6iEz",
        "outputId": "853900e8-0615-4e81-a2bc-30be19e0bc61",
        "colab": {
          "base_uri": "https://localhost:8080/",
          "height": 418
        }
      },
      "execution_count": 3,
      "outputs": [
        {
          "output_type": "error",
          "ename": "JSONDecodeError",
          "evalue": "Expecting value: line 1 column 1 (char 0)",
          "traceback": [
            "\u001b[0;31m---------------------------------------------------------------------------\u001b[0m",
            "\u001b[0;31mJSONDecodeError\u001b[0m                           Traceback (most recent call last)",
            "\u001b[0;32m/usr/local/lib/python3.10/dist-packages/requests/models.py\u001b[0m in \u001b[0;36mjson\u001b[0;34m(self, **kwargs)\u001b[0m\n\u001b[1;32m    973\u001b[0m         \u001b[0;32mtry\u001b[0m\u001b[0;34m:\u001b[0m\u001b[0;34m\u001b[0m\u001b[0;34m\u001b[0m\u001b[0m\n\u001b[0;32m--> 974\u001b[0;31m             \u001b[0;32mreturn\u001b[0m \u001b[0mcomplexjson\u001b[0m\u001b[0;34m.\u001b[0m\u001b[0mloads\u001b[0m\u001b[0;34m(\u001b[0m\u001b[0mself\u001b[0m\u001b[0;34m.\u001b[0m\u001b[0mtext\u001b[0m\u001b[0;34m,\u001b[0m \u001b[0;34m**\u001b[0m\u001b[0mkwargs\u001b[0m\u001b[0;34m)\u001b[0m\u001b[0;34m\u001b[0m\u001b[0;34m\u001b[0m\u001b[0m\n\u001b[0m\u001b[1;32m    975\u001b[0m         \u001b[0;32mexcept\u001b[0m \u001b[0mJSONDecodeError\u001b[0m \u001b[0;32mas\u001b[0m \u001b[0me\u001b[0m\u001b[0;34m:\u001b[0m\u001b[0;34m\u001b[0m\u001b[0;34m\u001b[0m\u001b[0m\n",
            "\u001b[0;32m/usr/lib/python3.10/json/__init__.py\u001b[0m in \u001b[0;36mloads\u001b[0;34m(s, cls, object_hook, parse_float, parse_int, parse_constant, object_pairs_hook, **kw)\u001b[0m\n\u001b[1;32m    345\u001b[0m             parse_constant is None and object_pairs_hook is None and not kw):\n\u001b[0;32m--> 346\u001b[0;31m         \u001b[0;32mreturn\u001b[0m \u001b[0m_default_decoder\u001b[0m\u001b[0;34m.\u001b[0m\u001b[0mdecode\u001b[0m\u001b[0;34m(\u001b[0m\u001b[0ms\u001b[0m\u001b[0;34m)\u001b[0m\u001b[0;34m\u001b[0m\u001b[0;34m\u001b[0m\u001b[0m\n\u001b[0m\u001b[1;32m    347\u001b[0m     \u001b[0;32mif\u001b[0m \u001b[0mcls\u001b[0m \u001b[0;32mis\u001b[0m \u001b[0;32mNone\u001b[0m\u001b[0;34m:\u001b[0m\u001b[0;34m\u001b[0m\u001b[0;34m\u001b[0m\u001b[0m\n",
            "\u001b[0;32m/usr/lib/python3.10/json/decoder.py\u001b[0m in \u001b[0;36mdecode\u001b[0;34m(self, s, _w)\u001b[0m\n\u001b[1;32m    336\u001b[0m         \"\"\"\n\u001b[0;32m--> 337\u001b[0;31m         \u001b[0mobj\u001b[0m\u001b[0;34m,\u001b[0m \u001b[0mend\u001b[0m \u001b[0;34m=\u001b[0m \u001b[0mself\u001b[0m\u001b[0;34m.\u001b[0m\u001b[0mraw_decode\u001b[0m\u001b[0;34m(\u001b[0m\u001b[0ms\u001b[0m\u001b[0;34m,\u001b[0m \u001b[0midx\u001b[0m\u001b[0;34m=\u001b[0m\u001b[0m_w\u001b[0m\u001b[0;34m(\u001b[0m\u001b[0ms\u001b[0m\u001b[0;34m,\u001b[0m \u001b[0;36m0\u001b[0m\u001b[0;34m)\u001b[0m\u001b[0;34m.\u001b[0m\u001b[0mend\u001b[0m\u001b[0;34m(\u001b[0m\u001b[0;34m)\u001b[0m\u001b[0;34m)\u001b[0m\u001b[0;34m\u001b[0m\u001b[0;34m\u001b[0m\u001b[0m\n\u001b[0m\u001b[1;32m    338\u001b[0m         \u001b[0mend\u001b[0m \u001b[0;34m=\u001b[0m \u001b[0m_w\u001b[0m\u001b[0;34m(\u001b[0m\u001b[0ms\u001b[0m\u001b[0;34m,\u001b[0m \u001b[0mend\u001b[0m\u001b[0;34m)\u001b[0m\u001b[0;34m.\u001b[0m\u001b[0mend\u001b[0m\u001b[0;34m(\u001b[0m\u001b[0;34m)\u001b[0m\u001b[0;34m\u001b[0m\u001b[0;34m\u001b[0m\u001b[0m\n",
            "\u001b[0;32m/usr/lib/python3.10/json/decoder.py\u001b[0m in \u001b[0;36mraw_decode\u001b[0;34m(self, s, idx)\u001b[0m\n\u001b[1;32m    354\u001b[0m         \u001b[0;32mexcept\u001b[0m \u001b[0mStopIteration\u001b[0m \u001b[0;32mas\u001b[0m \u001b[0merr\u001b[0m\u001b[0;34m:\u001b[0m\u001b[0;34m\u001b[0m\u001b[0;34m\u001b[0m\u001b[0m\n\u001b[0;32m--> 355\u001b[0;31m             \u001b[0;32mraise\u001b[0m \u001b[0mJSONDecodeError\u001b[0m\u001b[0;34m(\u001b[0m\u001b[0;34m\"Expecting value\"\u001b[0m\u001b[0;34m,\u001b[0m \u001b[0ms\u001b[0m\u001b[0;34m,\u001b[0m \u001b[0merr\u001b[0m\u001b[0;34m.\u001b[0m\u001b[0mvalue\u001b[0m\u001b[0;34m)\u001b[0m \u001b[0;32mfrom\u001b[0m \u001b[0;32mNone\u001b[0m\u001b[0;34m\u001b[0m\u001b[0;34m\u001b[0m\u001b[0m\n\u001b[0m\u001b[1;32m    356\u001b[0m         \u001b[0;32mreturn\u001b[0m \u001b[0mobj\u001b[0m\u001b[0;34m,\u001b[0m \u001b[0mend\u001b[0m\u001b[0;34m\u001b[0m\u001b[0;34m\u001b[0m\u001b[0m\n",
            "\u001b[0;31mJSONDecodeError\u001b[0m: Expecting value: line 1 column 1 (char 0)",
            "\nDuring handling of the above exception, another exception occurred:\n",
            "\u001b[0;31mJSONDecodeError\u001b[0m                           Traceback (most recent call last)",
            "\u001b[0;32m<ipython-input-3-8395a5d1d48f>\u001b[0m in \u001b[0;36m<cell line: 6>\u001b[0;34m()\u001b[0m\n\u001b[1;32m      4\u001b[0m \u001b[0mheader\u001b[0m \u001b[0;34m=\u001b[0m \u001b[0;34m{\u001b[0m\u001b[0;34m'User-Agent'\u001b[0m\u001b[0;34m:\u001b[0m\u001b[0;34m'Mozilla/5.0 (Windows NT 10.0; Win64; x64; rv:124.0) Gecko/20100101 Firefox/124.0'\u001b[0m\u001b[0;34m}\u001b[0m\u001b[0;34m\u001b[0m\u001b[0;34m\u001b[0m\u001b[0m\n\u001b[1;32m      5\u001b[0m \u001b[0mraw\u001b[0m \u001b[0;34m=\u001b[0m \u001b[0mrequests\u001b[0m\u001b[0;34m.\u001b[0m\u001b[0mget\u001b[0m\u001b[0;34m(\u001b[0m\u001b[0murl\u001b[0m\u001b[0;34m+\u001b[0m\u001b[0mquery\u001b[0m\u001b[0;34m,\u001b[0m\u001b[0mheaders\u001b[0m\u001b[0;34m=\u001b[0m\u001b[0mheader\u001b[0m\u001b[0;34m)\u001b[0m\u001b[0;34m\u001b[0m\u001b[0;34m\u001b[0m\u001b[0m\n\u001b[0;32m----> 6\u001b[0;31m \u001b[0mdata\u001b[0m \u001b[0;34m=\u001b[0m \u001b[0mraw\u001b[0m\u001b[0;34m.\u001b[0m\u001b[0mjson\u001b[0m\u001b[0;34m(\u001b[0m\u001b[0;34m)\u001b[0m\u001b[0;34m\u001b[0m\u001b[0;34m\u001b[0m\u001b[0m\n\u001b[0m",
            "\u001b[0;32m/usr/local/lib/python3.10/dist-packages/requests/models.py\u001b[0m in \u001b[0;36mjson\u001b[0;34m(self, **kwargs)\u001b[0m\n\u001b[1;32m    976\u001b[0m             \u001b[0;31m# Catch JSON-related errors and raise as requests.JSONDecodeError\u001b[0m\u001b[0;34m\u001b[0m\u001b[0;34m\u001b[0m\u001b[0m\n\u001b[1;32m    977\u001b[0m             \u001b[0;31m# This aliases json.JSONDecodeError and simplejson.JSONDecodeError\u001b[0m\u001b[0;34m\u001b[0m\u001b[0;34m\u001b[0m\u001b[0m\n\u001b[0;32m--> 978\u001b[0;31m             \u001b[0;32mraise\u001b[0m \u001b[0mRequestsJSONDecodeError\u001b[0m\u001b[0;34m(\u001b[0m\u001b[0me\u001b[0m\u001b[0;34m.\u001b[0m\u001b[0mmsg\u001b[0m\u001b[0;34m,\u001b[0m \u001b[0me\u001b[0m\u001b[0;34m.\u001b[0m\u001b[0mdoc\u001b[0m\u001b[0;34m,\u001b[0m \u001b[0me\u001b[0m\u001b[0;34m.\u001b[0m\u001b[0mpos\u001b[0m\u001b[0;34m)\u001b[0m\u001b[0;34m\u001b[0m\u001b[0;34m\u001b[0m\u001b[0m\n\u001b[0m\u001b[1;32m    979\u001b[0m \u001b[0;34m\u001b[0m\u001b[0m\n\u001b[1;32m    980\u001b[0m     \u001b[0;34m@\u001b[0m\u001b[0mproperty\u001b[0m\u001b[0;34m\u001b[0m\u001b[0;34m\u001b[0m\u001b[0m\n",
            "\u001b[0;31mJSONDecodeError\u001b[0m: Expecting value: line 1 column 1 (char 0)"
          ]
        }
      ]
    },
    {
      "cell_type": "code",
      "source": [
        "import urllib.request\n",
        "import json\n",
        "url = 'https://www.saferproducts.gov/RestWebServices/'\n",
        "query = 'Recall?format=json&Manufacturer=Verizon'\n",
        "response = urllib.request.urlopen(url+query)\n",
        "response_bytes = response.read()\n",
        "data = json.loads(response_bytes)\n",
        "response.close()"
      ],
      "metadata": {
        "id": "Grv7vev-7vok"
      },
      "execution_count": 12,
      "outputs": []
    },
    {
      "cell_type": "code",
      "source": [
        "data"
      ],
      "metadata": {
        "id": "OiwXKciC750Y",
        "outputId": "2c32fcdf-02b3-4b5f-b472-c011a89166c1",
        "colab": {
          "base_uri": "https://localhost:8080/"
        }
      },
      "execution_count": 13,
      "outputs": [
        {
          "output_type": "execute_result",
          "data": {
            "text/plain": [
              "[{'RecallID': 3032,\n",
              "  'RecallNumber': '05505',\n",
              "  'RecallDate': '2004-10-28T00:00:00',\n",
              "  'Description': 'Kyocera Wireless Corp. Recall of Cell Phone Batteries Recall Alert U.S. Consumer Product Safety Commission Office of Information and Public Affairs Washington, DC 20207 October 28, 2004 Alert #05-505 CPSC, Kyocera Wireless Corp. Announce Recall of Cell Phone Batteries The following product safety recall was conducted voluntarily by the firm in cooperation with the CPSC. Consumers should stop using recalled products immediately unless otherwise instructed. It is illegal to resell or attempt to resell a recalled consumer product. Name of Product: Batteries in Kyocera Wireless Corp. Cell Phones Units: About 1 million  Manufacturer: Hecmma Group, of El Paso, Texas Distributor: Kyocera Wireless Corp., of San Diego, Calif. Hazard: Some of the cell phone batteries supplied by the battery manufacturer may be counterfeit. This can cause the batteries to short-circuit, overheat and pose burn hazard to consumers. Incidents/Injuries: Kyocera has received 14 reports of battery failures, resulting in smoke and minor property damage. Two minor burn injuries have been reported. Description: The recalled batteries are included in Kyocera Slider, K400, and 3200 Series cell phones. Below is additional information about the cell phones and recalled batteries: Cell Phone Model Name Cell Phone Model Number Battery Model Numbers Battery Description Slider Series SE44/SE47 CV90-L305N-01 CV90-L305P-01 CV90-L305T-01 CV90-L349T-01 Battery has the Kyocera name printed in red and black along with the model number K400 Series \"Phantom\" \"Blade\" \"Rave\" KE413 KE433 KE/KX414 KE/KX424 KE/KX434 CV90-K3040-03 CV90-K3040-09 CV90-K3040-10 CV90-K3040-11 Battery has the Kyocera name printed in red and white along with the model number 3200 Series 3225 3250 (Appears above or below phone display) CV90-K3040-03 CV90-K3040-09 CV90-K3040-10 CV90-K3040-11 Battery has the Kyocera name printed in red and white along with the model number Sold at: ALLTEL, Virgin Mobile, Cricket Communications, MetroPCS, US Cellular and Verizon Wireless stores nationwide; telemarketing retailers; various Web sites; and regional phone carriers sold the cell phones with the recalled batteries. The 3200 Series and K400 Series phones were sold from December 2003 to September 2004 for between $30 and $100. Slider Series phones were sold from May 2004 to September 2004 for between $30 and $170. The recalled batteries were also sold separately during the same periods for between $30 and $60. Manufactured In: Made in China, assembled in Mexico. Remedy: Consumers should immediately stop using the recalled batteries in their cell phones. Kyocera will contact consumers directly to arrange for delivery of a free replacement battery. If consumers with recalled batteries are not contacted by Kyocera, they should call the company to receive a free replacement battery. The batteries should be stored in an environment with non-flammable materials. Consumer Contact: Call Kyocera Wireless Corp. toll-free at (866) 559-3882 between 6 a.m. and 6 p.m. PT Monday through Friday, or request a replacement battery online at www.kyocera-wireless.com Media Contact: John Chier at (858) 882-3543. Slider Series K400 Series 3200 Series Slider Series Battery and Affected Product Codes 3200 and K400 Series Battery and Affected Product Codes',\n",
              "  'URL': 'https://www.cpsc.gov/Recalls/2005/CPSC-Kyocera-Wireless-Corp-Announce-Recall-of-Cell-Phone-Batteries-',\n",
              "  'Title': 'Kyocera Wireless Corp. Recall of Cell Phone Batteries',\n",
              "  'ConsumerContact': None,\n",
              "  'LastPublishDate': '2014-05-23T00:00:00',\n",
              "  'Products': [{'Name': 'Kyocera Wireless cell phone batteries for Phantom, Blade, Rave phones',\n",
              "    'Description': '',\n",
              "    'Model': '',\n",
              "    'Type': 'Telephones, Cell Phones & Accessories',\n",
              "    'CategoryID': '2167',\n",
              "    'NumberOfUnits': ''},\n",
              "   {'Name': 'Kyocera Wireless cell phone batteries for Slider, K400, 3200 series phones',\n",
              "    'Description': '',\n",
              "    'Model': '',\n",
              "    'Type': 'Adapter/Power Supply/Charger/Battery',\n",
              "    'CategoryID': '1808',\n",
              "    'NumberOfUnits': ''}],\n",
              "  'Inconjunctions': [],\n",
              "  'Images': [],\n",
              "  'Injuries': [],\n",
              "  'Manufacturers': [{'Name': 'Kyocera Wireless', 'CompanyID': ''},\n",
              "   {'Name': 'Hecmma Group', 'CompanyID': ''},\n",
              "   {'Name': 'ALLTEL', 'CompanyID': ''},\n",
              "   {'Name': 'Virgin Mobile', 'CompanyID': ''},\n",
              "   {'Name': 'Cricket Communications', 'CompanyID': ''},\n",
              "   {'Name': 'MetroPCS', 'CompanyID': ''},\n",
              "   {'Name': 'US Cellular', 'CompanyID': ''},\n",
              "   {'Name': 'Verizon Wireless', 'CompanyID': ''}],\n",
              "  'Retailers': [],\n",
              "  'Importers': [],\n",
              "  'Distributors': [],\n",
              "  'SoldAtLabel': None,\n",
              "  'ManufacturerCountries': [{'Country': 'China'}, {'Country': 'Mexico'}],\n",
              "  'ProductUPCs': [],\n",
              "  'Hazards': [{'Name': 'Burn - Not Fire-Related',\n",
              "    'HazardType': '',\n",
              "    'HazardTypeID': ''}],\n",
              "  'Remedies': [],\n",
              "  'RemedyOptions': []},\n",
              " {'RecallID': 2758,\n",
              "  'RecallNumber': '04559',\n",
              "  'RecallDate': '2004-06-24T00:00:00',\n",
              "  'Description': 'Verizon Wireless Recall of Counterfeit Cell Phone Batteries Recall Alert U.S. Consumer Product Safety Commission Office of Information and Public Affairs Washington, DC 20207 Originally issued June 24, 2004, Revised November 16, 2004 Alert #04-559 Note: Telephone number change, online registration is no longer available CPSC, Verizon Wireless Announce Recall of Counterfeit Cell Phone Batteries The following product safety recall was conducted voluntarily by the firm in cooperation with the CPSC. Consumers should stop using the product immediately unless otherwise instructed. It is illegal to resell or attempt to resell a recalled consumer product. Name of Product: Counterfeit LG-branded TM-510 Cell Phone Batteries Units: About 50,000 Manufacturer/Importer: Verizon Wireless of Bedminster, N.J. Hazard: Some LG-branded TM-510 batteries may be counterfeit and susceptible to overcharging, especially if used with a non-LG charger. LG Infocomm U.S.A. Inc. states that these are counterfeit LG-branded batteries, which do not contain a safety device in the circuitry to prevent overcharging. In turn, the counterfeit batteries can overheat, posing a fire and burn hazard to users. Incidents/Injuries: Verizon Wireless has received 18 reports of incidents involving counterfeit batteries, including injuries to users and property damage. Description: The recalled batteries can be found in LG TM-510 model cell phones, have a manufacturer/date code of \"AEMLLL 02220,\" AEMMHH 02220,\" \"AEMLLL 02X25H\" or \"AEMMHH 02725\" and were distributed by Verizon Wireless. The manufacturer/date code can be found on the battery, below the words, \"Model/Modelo\" or \"LG.\" The phone\\'s model number appears on the back side of the phone beneath the battery. The cell phones, which come in black or silver, may have the Verizon Wireless name on the front. Sold at: The phones were sold at Verizon Wireless retail locations nationwide and on Verizon Wireless\\'s Web site from April 2001 through December 2002 for between $150 and $200. The batteries were sold from August 2002 to November 2003 for between $40 and $60. Remedy: Consumers with a LG TM510 cell phone battery having one of the identified manufacturer/date codes and purchased from Verizon Wireless should stop charging the battery immediately and contact Verizon Wireless to receive a replacement battery. Verizon Wireless is sending letters directly to consumers notifying them of this hazard. Consumer Contact: Call Verizon Wireless at (800) 922-0204 between 9 a.m. and 8 p.m. ET Monday through Friday.',\n",
              "  'URL': 'https://www.cpsc.gov/Recalls/2004/CPSC-Verizon-Wireless-Announce-Recall-of-Counterfeit-Cell-Phone-Batteries',\n",
              "  'Title': 'Verizon Wireless Recall of Counterfeit Cell Phone Batteries',\n",
              "  'ConsumerContact': None,\n",
              "  'LastPublishDate': '2014-05-23T00:00:00',\n",
              "  'Products': [{'Name': '',\n",
              "    'Description': '',\n",
              "    'Model': '',\n",
              "    'Type': 'Adapter/Power Supply/Charger/Battery',\n",
              "    'CategoryID': '1808',\n",
              "    'NumberOfUnits': ''},\n",
              "   {'Name': 'LG-branded TM-510 Cell Phone (Verizon) Batteries',\n",
              "    'Description': '',\n",
              "    'Model': '',\n",
              "    'Type': 'Telephones, Cell Phones & Accessories',\n",
              "    'CategoryID': '2167',\n",
              "    'NumberOfUnits': ''}],\n",
              "  'Inconjunctions': [],\n",
              "  'Images': [],\n",
              "  'Injuries': [],\n",
              "  'Manufacturers': [{'Name': 'Verizon Wireless', 'CompanyID': ''},\n",
              "   {'Name': 'LG Infocomm', 'CompanyID': ''}],\n",
              "  'Retailers': [],\n",
              "  'Importers': [],\n",
              "  'Distributors': [],\n",
              "  'SoldAtLabel': None,\n",
              "  'ManufacturerCountries': [],\n",
              "  'ProductUPCs': [],\n",
              "  'Hazards': [{'Name': 'Fire & Fire-Related Burn',\n",
              "    'HazardType': '',\n",
              "    'HazardTypeID': ''}],\n",
              "  'Remedies': [],\n",
              "  'RemedyOptions': []},\n",
              " {'RecallID': 2559,\n",
              "  'RecallNumber': '04068',\n",
              "  'RecallDate': '2004-01-23T00:00:00',\n",
              "  'Description': 'January 23, 2004Release # 04-068 Kyocera Wireless Corp.: (800) 349-4478 CPSC Consumer Hotline: (800) 638-2772 CPSC Media Contact: (301) 504-7908 Kyocera Media Contact: (858) 882-3543 CPSC, Kyocera Wireless Corp. Announce Recall of Batteries in Smartphone Cell Phones WASHINGTON, D.C. - The U.S. Consumer Product Safety Commission announces the following recall in voluntary cooperation with the firm below. Consumers should stop using recalled products immediately unless otherwise instructed. It is illegal to resell or attempt to resell a recalled consumer product. Name of product: Batteries in Kyocera Cell Phones (Model 7135 Smartphones) Units: 140,000Manufacturer: Coslight International Group, of Hong Kong, manufactured the batteries for Kyocera Wireless Corp., of San Diego, Calif.Hazard: The recalled batteries can short-circuit and erupt with force or emit excessive heat, posing a burn hazard to consumers.Incidents/Injuries: Kyocera Wireless Corp. has received four reports of battery failures, including one minor burn injury.Description: The recalled batteries are included in Kyocera model 7135 Smartphone cell phones. The black and silver flip-up phones say \"Kyocera\" at the top of the screen. The recalled batteries have the red and white Kyocera name printed on the front and a product code ending with -05 printed on the underside. Sold at: Verizon Wireless, US Cellular and ALLTEL Corporation stores, in addition to Web site and telemarketing retailers nationwide, sold the cell phones with the -05 battery from September 2003 through December 2003 for about $500. The batteries also were sold separately during this time for about $21.Manufactured in: ChinaRemedy: Consumers with the recalled units should immediately stop using the battery in the cell phone. Kyocera Wireless will contact consumers to arrange for delivery of a free replacement battery. If consumers are not contacted by Kyocera by Feb. 6, they are asked to contact the firm to receive the free replacement battery. The batteries should be stored in an environment with non-flammable materials. Consumer Contact: Call Kyocera Wireless Corp. at (800) 349-4478 between 6 a.m. and 6 p.m. PT Monday through Friday, or visit their Web site at www.kyocera-wireless.co',\n",
              "  'URL': 'https://www.cpsc.gov/Recalls/2004/CPSC-Kyocera-Wireless-Corp-Announce-Recall-of-Batteries-in-Smartphone-Cell-Phones-',\n",
              "  'Title': 'CPSC, Kyocera Wireless Corp. Announce Recall of Batteries in Smartphone Cell Phones',\n",
              "  'ConsumerContact': None,\n",
              "  'LastPublishDate': '2014-05-23T00:00:00',\n",
              "  'Products': [{'Name': '',\n",
              "    'Description': '',\n",
              "    'Model': '',\n",
              "    'Type': 'Telephones, Cell Phones & Accessories',\n",
              "    'CategoryID': '2167',\n",
              "    'NumberOfUnits': ''},\n",
              "   {'Name': 'Batteries in Kyocera Smartphone Cell Phones',\n",
              "    'Description': '',\n",
              "    'Model': '',\n",
              "    'Type': 'Adapter/Power Supply/Charger/Battery',\n",
              "    'CategoryID': '1808',\n",
              "    'NumberOfUnits': ''}],\n",
              "  'Inconjunctions': [],\n",
              "  'Images': [],\n",
              "  'Injuries': [],\n",
              "  'Manufacturers': [{'Name': 'Kyocera Wireless', 'CompanyID': ''},\n",
              "   {'Name': 'Coslight International Group', 'CompanyID': ''},\n",
              "   {'Name': 'Verizon Wireless', 'CompanyID': ''},\n",
              "   {'Name': 'US Cellular', 'CompanyID': ''},\n",
              "   {'Name': 'ALLTEL', 'CompanyID': ''}],\n",
              "  'Retailers': [],\n",
              "  'Importers': [],\n",
              "  'Distributors': [],\n",
              "  'SoldAtLabel': None,\n",
              "  'ManufacturerCountries': [{'Country': 'China'}],\n",
              "  'ProductUPCs': [],\n",
              "  'Hazards': [{'Name': 'Burn - Not Fire-Related',\n",
              "    'HazardType': '',\n",
              "    'HazardTypeID': ''}],\n",
              "  'Remedies': [],\n",
              "  'RemedyOptions': []}]"
            ]
          },
          "metadata": {},
          "execution_count": 13
        }
      ]
    },
    {
      "cell_type": "markdown",
      "metadata": {
        "id": "CWk9ceyRgGP_"
      },
      "source": [
        "## Wrangling the Data\n",
        "\n",
        "Piping the data to Pandas is easy, because the preceding code chunk put the JSON data into a native Python dictionary, and the following converts it to a dataframe:\n",
        "\n",
        "    df = pd.DataFrame.from_dict(data)\n",
        "\n",
        "If the data is in raw XML or JSON format --- which might especially be true with other API's --- it would instead be \\texttt{pd.read\\_xml(data)} or \\texttt{pd.read\\_json(data)}. Ironing out these details in advance for other applications is a key part of the presentation for students, but having students resolve these issues as a component of group work or an assignment is a great way to help them mature as coding problem solvers by struggling with documentation and a well-defined problem.\n",
        "\n",
        "Unfortunately, there aren't many non-text fields in the \\texttt{www.saferproducts.gov} data. However, there are a few fields of interest that can be tabulated and discussed, such as RemedyOptions and ManufacturerCountries:\n",
        "\n",
        "    df['RemedyOptions'].value_counts()\n",
        "\n",
        "with output\n",
        "\n",
        "    RemedyOptions\n",
        "    []                                                                               139\n",
        "    [{'Option': 'Repair'}]                                                            49\n",
        "    [{'Option': 'Replace'}]                                                           12\n",
        "    [{'Option': 'Refund'}]                                                             7\n",
        "    [{'Option': 'Replace'}, {'Option': 'Repair'}]                                      4\n",
        "    [{'Option': 'Refund'}, {'Option': 'Replace'}, {'Option': 'Repair'}]                1\n",
        "    [{'Option': 'Replace'}, {'Option': 'Refund'}]                                      1\n",
        "    [{'Option': 'Refund'}, {'Option': 'Repair'}]                                       1\n",
        "    [{'Option': 'Label'}]                                                              1\n",
        "    [{'Option': 'New Instructions'}, {'Option': 'Replace'}, {'Option': 'Refund'}]      1\n",
        "    Name: count, dtype: int64\n",
        "\n",
        "It's appropriate at this point to do some data cleaning, particularly by flattening dictionary entries. With response data that get converted from json to a dictionary, there are often values in the data frame that need to be flattened or unpacked. For example, some values are recorded as \\texttt{ [$\\{$'Country':'Canada'$\\}$]}, or, worse, a dictionary with multiple entries: \\texttt{[ $\\{$ 'Option': 'Replace'$\\}$, $\\{$'Option': 'Repair'$\\}$]  ] }. This can lead to problems when another package refuses to work with a lists of lists or doesn't know how to simplify a dictionary to data, and presents some conceptual questions when cleaning.\n",
        "\n",
        "A simple script to recursively collapse the dictionary entries into a single string is:\n",
        "\n",
        "    temp = df['RemedyOptions']\n",
        "    clean_values = []\n",
        "    for i in range(len(temp)):\n",
        "        if len(temp[i])>0:\n",
        "            values = []\n",
        "            for j in range(len(temp[i])):\n",
        "                values.append(temp[i][j]['Option'] )\n",
        "            clean_values.append(values)\n",
        "        else:\n",
        "            clean_values.append('')\n",
        "    df['remedy'] = clean_values\n",
        "\n",
        "**3. Convert this code chunk into a function you can reuse to flatten dictionaries, or explain clearly the problems you run into while attempting to do so. Make some tables or plots.**\n"
      ]
    },
    {
      "cell_type": "code",
      "source": [
        "import pandas as pd\n"
      ],
      "metadata": {
        "id": "v1UljdSI9kLo"
      },
      "execution_count": 14,
      "outputs": []
    },
    {
      "cell_type": "code",
      "source": [
        "df=pd.DataFrame.from_dict(data)"
      ],
      "metadata": {
        "id": "VcDxpEvl8NlR"
      },
      "execution_count": 15,
      "outputs": []
    },
    {
      "cell_type": "code",
      "source": [
        "df['Manufacturers'].value_counts()"
      ],
      "metadata": {
        "id": "EwrUtmEx-gif",
        "outputId": "1b055adb-f5df-4e73-b61d-2d090df83984",
        "colab": {
          "base_uri": "https://localhost:8080/",
          "height": 244
        }
      },
      "execution_count": 16,
      "outputs": [
        {
          "output_type": "execute_result",
          "data": {
            "text/plain": [
              "Manufacturers\n",
              "[{'Name': 'Kyocera Wireless', 'CompanyID': ''}, {'Name': 'Hecmma Group', 'CompanyID': ''}, {'Name': 'ALLTEL', 'CompanyID': ''}, {'Name': 'Virgin Mobile', 'CompanyID': ''}, {'Name': 'Cricket Communications', 'CompanyID': ''}, {'Name': 'MetroPCS', 'CompanyID': ''}, {'Name': 'US Cellular', 'CompanyID': ''}, {'Name': 'Verizon Wireless', 'CompanyID': ''}]    1\n",
              "[{'Name': 'Verizon Wireless', 'CompanyID': ''}, {'Name': 'LG Infocomm', 'CompanyID': ''}]                                                                                                                                                                                                                                                                           1\n",
              "[{'Name': 'Kyocera Wireless', 'CompanyID': ''}, {'Name': 'Coslight International Group', 'CompanyID': ''}, {'Name': 'Verizon Wireless', 'CompanyID': ''}, {'Name': 'US Cellular', 'CompanyID': ''}, {'Name': 'ALLTEL', 'CompanyID': ''}]                                                                                                                            1\n",
              "Name: count, dtype: int64"
            ],
            "text/html": [
              "<div>\n",
              "<style scoped>\n",
              "    .dataframe tbody tr th:only-of-type {\n",
              "        vertical-align: middle;\n",
              "    }\n",
              "\n",
              "    .dataframe tbody tr th {\n",
              "        vertical-align: top;\n",
              "    }\n",
              "\n",
              "    .dataframe thead th {\n",
              "        text-align: right;\n",
              "    }\n",
              "</style>\n",
              "<table border=\"1\" class=\"dataframe\">\n",
              "  <thead>\n",
              "    <tr style=\"text-align: right;\">\n",
              "      <th></th>\n",
              "      <th>count</th>\n",
              "    </tr>\n",
              "    <tr>\n",
              "      <th>Manufacturers</th>\n",
              "      <th></th>\n",
              "    </tr>\n",
              "  </thead>\n",
              "  <tbody>\n",
              "    <tr>\n",
              "      <th>[{'Name': 'Kyocera Wireless', 'CompanyID': ''}, {'Name': 'Hecmma Group', 'CompanyID': ''}, {'Name': 'ALLTEL', 'CompanyID': ''}, {'Name': 'Virgin Mobile', 'CompanyID': ''}, {'Name': 'Cricket Communications', 'CompanyID': ''}, {'Name': 'MetroPCS', 'CompanyID': ''}, {'Name': 'US Cellular', 'CompanyID': ''}, {'Name': 'Verizon Wireless', 'CompanyID': ''}]</th>\n",
              "      <td>1</td>\n",
              "    </tr>\n",
              "    <tr>\n",
              "      <th>[{'Name': 'Verizon Wireless', 'CompanyID': ''}, {'Name': 'LG Infocomm', 'CompanyID': ''}]</th>\n",
              "      <td>1</td>\n",
              "    </tr>\n",
              "    <tr>\n",
              "      <th>[{'Name': 'Kyocera Wireless', 'CompanyID': ''}, {'Name': 'Coslight International Group', 'CompanyID': ''}, {'Name': 'Verizon Wireless', 'CompanyID': ''}, {'Name': 'US Cellular', 'CompanyID': ''}, {'Name': 'ALLTEL', 'CompanyID': ''}]</th>\n",
              "      <td>1</td>\n",
              "    </tr>\n",
              "  </tbody>\n",
              "</table>\n",
              "</div><br><label><b>dtype:</b> int64</label>"
            ]
          },
          "metadata": {},
          "execution_count": 16
        }
      ]
    },
    {
      "cell_type": "code",
      "source": [
        "temp=df['Manufacturers']\n",
        "clean_values = []"
      ],
      "metadata": {
        "id": "3FyOmFe__ff7",
        "outputId": "9325b088-537a-4153-9647-8185fc2e69e8",
        "colab": {
          "base_uri": "https://localhost:8080/",
          "height": 108
        }
      },
      "execution_count": 30,
      "outputs": [
        {
          "output_type": "error",
          "ename": "IndentationError",
          "evalue": "expected an indented block after 'for' statement on line 6 (<ipython-input-30-fb1aa7b411a8>, line 7)",
          "traceback": [
            "\u001b[0;36m  File \u001b[0;32m\"<ipython-input-30-fb1aa7b411a8>\"\u001b[0;36m, line \u001b[0;32m7\u001b[0m\n\u001b[0;31m    values.append(temp[i][j]['Option'])\u001b[0m\n\u001b[0m                                       ^\u001b[0m\n\u001b[0;31mIndentationError\u001b[0m\u001b[0;31m:\u001b[0m expected an indented block after 'for' statement on line 6\n"
          ]
        }
      ]
    },
    {
      "cell_type": "markdown",
      "metadata": {
        "id": "glTQ8P7ggGP_"
      },
      "source": [
        "## Dashboarding the Results (Optional)\n",
        "\n",
        "To complete the pipeline from data to product, we can use \\texttt{streamlit} to quickly convert Python code into a web page that can be accessed locally. This can be done with essentially three lines of code: An import statement, a $.title()$ method call to set the page title, and an $.write()$ call to push the results to the page. Although relatively static, completing this step serves a pedogogical and psychological purpose: It pivots the students to thinking about how to communicate results to an audience, and how the project could become an ongoing endeavor rather than a single analytical exercise.\n",
        "\n",
        "The entire .py file to create the dashboard is\n",
        "\n",
        "    import pandas as pd\n",
        "    import requests\n",
        "    import streamlit as st\n",
        "    # Conduct analysis:\n",
        "    url = 'https://www.saferproducts.gov/RestWebServices/Recall'\n",
        "    query = '?format=json&RecallTitle=Gas'\n",
        "    header = {'User-Agent':\n",
        "              'Mozilla/5.0 (Windows NT 10.0; Win64; x64; rv:124.0) Gecko/20100101 Firefox/124.0'}\n",
        "    raw = requests.get(url+query,headers=header)\n",
        "    data = raw.json()\n",
        "    df = pd.DataFrame.from_dict(data)\n",
        "    temp = df['RemedyOptions']\n",
        "    clean_values = []\n",
        "    for i in range(len(temp)):\n",
        "        if len(temp[i])>0:\n",
        "            values = []\n",
        "            for j in range(len(temp[i])):\n",
        "                values.append(temp[i][j]['Option'] )\n",
        "            clean_values.append(values)\n",
        "        else:\n",
        "            clean_values.append('')\n",
        "    df['remedy'] = clean_values\n",
        "    remedy_counts = df['remedy'].value_counts()\n",
        "    # Create streamlit output:\n",
        "    st.title('Remedy Statistics')\n",
        "    st.write(remedy_counts)\n",
        "\n",
        "To create the web page, run the following at the command line:\n",
        "\n",
        "    streamlit run remedy.py\n",
        "\n",
        "This should convert the above analysis into a web page available from localhost.\n",
        "\n",
        "**4. Produce your own table or plot, and output it to streamlit.**"
      ]
    },
    {
      "cell_type": "markdown",
      "metadata": {
        "id": "1ogbrOZYgGP_"
      },
      "source": [
        "## Other API Sources\n",
        "\n",
        "Valuable and interesting Federal API resources are listed at:\n",
        "\n",
        "    https://catalog.data.gov/dataset/?_res_format_limit=0&res_format=API\n",
        "\n",
        "and in the future will likely easily be found at \\texttt{data.gov}. Some highlights include:\n",
        "\n",
        "- CDC WONDER API for Data Query Web Service: Includes death certificates with causes since approximately the 1990's.\n",
        "- Comprehensive Housing Affordability Strategy (CHAS): Housing and Urban Development (HUD) maintains an API that provides Census data on housing problems and needs unavailable through other sources, including IPUMS.\n",
        "- Federal Election Commission API: Provides historical and up to the minute campaign finance data.\n",
        "- Toxic Release Inventory: Provided by the Environmental Protection Agency, this API documents the release and management of over 800 toxic substances, reported annually by privately owned facilities and the government.\n",
        "- Petroleum Data, Prices: Provides prices of petroleum products and crude oil at weekly, monthly, and yearly time scales.\n",
        "- Fair Market Rents Lookup tool: Fair Market Rents (FMRs) determine the value of housing vouchers for Section 8 renters. This API provides the FMR values and other measures of housing affordability.\n",
        "- Annual Economic Surveys, Business Patterns: Surveys of businesses at the zip code level, tracking economic sentiment and activity.\n",
        "- Food Access Research Atlas: Provides spatial data on food access and the availability of supermarkets within census tracts. Can be merged with census data to look at under-served populations and food deserts.\n",
        "- National Oceanographic and Atmospheric Administration: Provides API access to data on real time weather and climate change projections.\n",
        "\n",
        "Each of these API resources could either be the cornerstone of a project or a source of additional data. These data sources have a number of advantages: They're free, most of them can be accessed using the same API key, and most have similar documentation for how to write a query. This is ideal for students to iterate, experiment, and take risks, with little cost to failure.\n",
        "\n",
        "In addition to government data, many commerical apps provide API access to developers and researchers. AirBnB, Amazon, Reddit, eBay, X, and many others maintain API access to develop third-party apps. These opportunities present many advantages: The data are larger, have more variety, and there are vastly many more cases. Building a third-party app that includes analytics could easily consume an entire semester and open a variety of applications in predictive analytics, natural language processing, and generative AI (e.g. predict which reviews are fake or real for Amazon for a product group like ``women's watches', and then make recommendations for different price points). While an exciting possibility, this can also raise a lot of problems: Some API's cost money or are rate-limited depending on a subscription, and others impose significant constraints on how the data can be used. In some cases, a more useful approach might be explicit web scraping using a package like BeautifulSoup or Selenium. For example, Craigslist has no API, but can easily and productively be scraped using BeautifulSoup.\n",
        "\n",
        "**5. Pick an API, download some data, wrangle them, and produce some EDA results, as we did in the previous steps with the saferproducts.gov API; or, if you can't get it to work, document why. If you have the time and it's low cost, push the results to a streamlit page. If you have had enough, I recommend https://www.eia.gov/opendata/browser/electricity, since there is a friendly query builder that you can use to learn.**"
      ]
    }
  ],
  "metadata": {
    "language_info": {
      "name": "python"
    },
    "colab": {
      "provenance": []
    },
    "kernelspec": {
      "name": "python3",
      "display_name": "Python 3"
    }
  },
  "nbformat": 4,
  "nbformat_minor": 0
}